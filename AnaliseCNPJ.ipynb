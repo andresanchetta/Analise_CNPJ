{
  "nbformat": 4,
  "nbformat_minor": 0,
  "metadata": {
    "colab": {
      "name": "TesteWMBR.ipynb",
      "provenance": [],
      "collapsed_sections": [
        "5sXibnPms--V",
        "j_E3AvHXs1PO",
        "lmRpcDXCCNHY",
        "VlSp_DQhqf77",
        "jT14VQWXCMGk"
      ],
      "toc_visible": true,
      "authorship_tag": "ABX9TyPKDTtDnVv1qFtmPlaTXsGF",
      "include_colab_link": true
    },
    "kernelspec": {
      "display_name": "Python 3",
      "name": "python3"
    },
    "language_info": {
      "name": "python"
    }
  },
  "cells": [
    {
      "cell_type": "markdown",
      "metadata": {
        "id": "view-in-github",
        "colab_type": "text"
      },
      "source": [
        "<a href=\"https://colab.research.google.com/github/andresanchetta/Analise_CNPJ/blob/main/AnaliseCNPJ.ipynb\" target=\"_parent\"><img src=\"https://colab.research.google.com/assets/colab-badge.svg\" alt=\"Open In Colab\"/></a>"
      ]
    },
    {
      "cell_type": "markdown",
      "metadata": {
        "id": "5sXibnPms--V"
      },
      "source": [
        "#Importação das biblíotecas e do DataFrame"
      ]
    },
    {
      "cell_type": "code",
      "metadata": {
        "id": "wlDC80Zzim_m"
      },
      "source": [
        "import pandas as pd\n",
        "import matplotlib.pyplot as plt\n",
        "import seaborn as sns\n",
        "import statistics as sts"
      ],
      "execution_count": 1,
      "outputs": []
    },
    {
      "cell_type": "code",
      "metadata": {
        "colab": {
          "base_uri": "https://localhost:8080/",
          "height": 359
        },
        "id": "jmaIlMryipZj",
        "outputId": "d6bbec5c-460b-4877-96b3-4baee8155227"
      },
      "source": [
        "#Link para o carregamento das informações:\n",
        "url = 'http://200.152.38.155/CNPJ/K3241.K03200Y0.D10510.ESTABELE.zip'\n",
        "#Nome das colunas, obtidos através do arquivo NOVOLAYOUTDOSDADOSABERTOSDOCNPJ.pdf\n",
        "col_Names = ['CNPJBase', 'CNPJOrdem', 'CNPJDV', 'IDMatriz', 'NomeFantasia', 'SitCad', 'DataSitCad', 'MotivoSitCad', 'CidadeExt', 'Pais', 'DataInicio', 'CNAEPrinc', 'CNAESec', 'TipoLogr', 'Logr', 'Numero', 'Compl', 'Bairro', 'CEP', 'UF', 'Municipio', 'DDD1', 'TEL1', 'DDD2', 'TEL2', 'DDDFax', 'Fax', 'email', 'SitEsp', 'DataSitEsp']\n",
        "\n",
        "#Carregamento do DF\n",
        "dados = pd.read_csv(url, compression='zip', sep=';', encoding='latin1', names = col_Names)\n",
        "\n",
        "#Cabeçalho do DF para verificação das informações:\n",
        "dados.head()"
      ],
      "execution_count": 4,
      "outputs": [
        {
          "output_type": "stream",
          "text": [
            "/usr/local/lib/python3.7/dist-packages/IPython/core/interactiveshell.py:2718: DtypeWarning: Columns (8,21,22,24,26,28) have mixed types.Specify dtype option on import or set low_memory=False.\n",
            "  interactivity=interactivity, compiler=compiler, result=result)\n"
          ],
          "name": "stderr"
        },
        {
          "output_type": "execute_result",
          "data": {
            "text/html": [
              "<div>\n",
              "<style scoped>\n",
              "    .dataframe tbody tr th:only-of-type {\n",
              "        vertical-align: middle;\n",
              "    }\n",
              "\n",
              "    .dataframe tbody tr th {\n",
              "        vertical-align: top;\n",
              "    }\n",
              "\n",
              "    .dataframe thead th {\n",
              "        text-align: right;\n",
              "    }\n",
              "</style>\n",
              "<table border=\"1\" class=\"dataframe\">\n",
              "  <thead>\n",
              "    <tr style=\"text-align: right;\">\n",
              "      <th></th>\n",
              "      <th>CNPJBase</th>\n",
              "      <th>CNPJOrdem</th>\n",
              "      <th>CNPJDV</th>\n",
              "      <th>IDMatriz</th>\n",
              "      <th>NomeFantasia</th>\n",
              "      <th>SitCad</th>\n",
              "      <th>DataSitCad</th>\n",
              "      <th>MotivoSitCad</th>\n",
              "      <th>CidadeExt</th>\n",
              "      <th>Pais</th>\n",
              "      <th>DataInicio</th>\n",
              "      <th>CNAEPrinc</th>\n",
              "      <th>CNAESec</th>\n",
              "      <th>TipoLogr</th>\n",
              "      <th>Logr</th>\n",
              "      <th>Numero</th>\n",
              "      <th>Compl</th>\n",
              "      <th>Bairro</th>\n",
              "      <th>CEP</th>\n",
              "      <th>UF</th>\n",
              "      <th>Municipio</th>\n",
              "      <th>DDD1</th>\n",
              "      <th>TEL1</th>\n",
              "      <th>DDD2</th>\n",
              "      <th>TEL2</th>\n",
              "      <th>DDDFax</th>\n",
              "      <th>Fax</th>\n",
              "      <th>email</th>\n",
              "      <th>SitEsp</th>\n",
              "      <th>DataSitEsp</th>\n",
              "    </tr>\n",
              "  </thead>\n",
              "  <tbody>\n",
              "    <tr>\n",
              "      <th>0</th>\n",
              "      <td>33600823</td>\n",
              "      <td>1</td>\n",
              "      <td>7</td>\n",
              "      <td>1</td>\n",
              "      <td>SALGADOS DA ERIDIANA</td>\n",
              "      <td>8</td>\n",
              "      <td>20190722</td>\n",
              "      <td>1</td>\n",
              "      <td>NaN</td>\n",
              "      <td>NaN</td>\n",
              "      <td>20190513</td>\n",
              "      <td>5620104</td>\n",
              "      <td>1096100,1093702</td>\n",
              "      <td>RUA</td>\n",
              "      <td>EMILIO VASCONCELOS</td>\n",
              "      <td>288</td>\n",
              "      <td>NaN</td>\n",
              "      <td>CENTRO</td>\n",
              "      <td>39790000.0</td>\n",
              "      <td>MG</td>\n",
              "      <td>4011</td>\n",
              "      <td>33</td>\n",
              "      <td>8.83338e+07</td>\n",
              "      <td>NaN</td>\n",
              "      <td>NaN</td>\n",
              "      <td>NaN</td>\n",
              "      <td>NaN</td>\n",
              "      <td>adelano.deptofiscal@gmail.com</td>\n",
              "      <td>NaN</td>\n",
              "      <td>NaN</td>\n",
              "    </tr>\n",
              "    <tr>\n",
              "      <th>1</th>\n",
              "      <td>33600832</td>\n",
              "      <td>1</td>\n",
              "      <td>6</td>\n",
              "      <td>1</td>\n",
              "      <td>DALUARI BOUTIQUE</td>\n",
              "      <td>2</td>\n",
              "      <td>20190513</td>\n",
              "      <td>0</td>\n",
              "      <td>NaN</td>\n",
              "      <td>NaN</td>\n",
              "      <td>20190513</td>\n",
              "      <td>4781400</td>\n",
              "      <td>4782201,4782202,4783101,4783102</td>\n",
              "      <td>AVENIDA</td>\n",
              "      <td>JOSE TOZZI</td>\n",
              "      <td>1831</td>\n",
              "      <td>LOJA  04</td>\n",
              "      <td>CENTRO</td>\n",
              "      <td>29930245.0</td>\n",
              "      <td>ES</td>\n",
              "      <td>5697</td>\n",
              "      <td>27</td>\n",
              "      <td>3.76382e+07</td>\n",
              "      <td>NaN</td>\n",
              "      <td>NaN</td>\n",
              "      <td>NaN</td>\n",
              "      <td>NaN</td>\n",
              "      <td>CADASTRO@PEREIRABCONTABILIDADE.COM.BR</td>\n",
              "      <td>NaN</td>\n",
              "      <td>NaN</td>\n",
              "    </tr>\n",
              "    <tr>\n",
              "      <th>2</th>\n",
              "      <td>33600844</td>\n",
              "      <td>1</td>\n",
              "      <td>22</td>\n",
              "      <td>1</td>\n",
              "      <td>NaN</td>\n",
              "      <td>2</td>\n",
              "      <td>20190513</td>\n",
              "      <td>0</td>\n",
              "      <td>NaN</td>\n",
              "      <td>NaN</td>\n",
              "      <td>20190513</td>\n",
              "      <td>4399103</td>\n",
              "      <td>4330404</td>\n",
              "      <td>AVENIDA</td>\n",
              "      <td>TOKISHIRO TOYAMA</td>\n",
              "      <td>194</td>\n",
              "      <td>NaN</td>\n",
              "      <td>CENTRO</td>\n",
              "      <td>18180000.0</td>\n",
              "      <td>SP</td>\n",
              "      <td>7171</td>\n",
              "      <td>15</td>\n",
              "      <td>9.98423e+07</td>\n",
              "      <td>NaN</td>\n",
              "      <td>NaN</td>\n",
              "      <td>NaN</td>\n",
              "      <td>NaN</td>\n",
              "      <td>NaN</td>\n",
              "      <td>NaN</td>\n",
              "      <td>NaN</td>\n",
              "    </tr>\n",
              "    <tr>\n",
              "      <th>3</th>\n",
              "      <td>33600854</td>\n",
              "      <td>1</td>\n",
              "      <td>68</td>\n",
              "      <td>1</td>\n",
              "      <td>IARA GASTROPEDIATRA</td>\n",
              "      <td>2</td>\n",
              "      <td>20190513</td>\n",
              "      <td>0</td>\n",
              "      <td>NaN</td>\n",
              "      <td>NaN</td>\n",
              "      <td>20190513</td>\n",
              "      <td>8610102</td>\n",
              "      <td>8630503</td>\n",
              "      <td>RUA</td>\n",
              "      <td>DEZ</td>\n",
              "      <td>SN</td>\n",
              "      <td>NaN</td>\n",
              "      <td>PLANALTO VINHAIS II</td>\n",
              "      <td>65074863.0</td>\n",
              "      <td>MA</td>\n",
              "      <td>921</td>\n",
              "      <td>98</td>\n",
              "      <td>8.1771e+07</td>\n",
              "      <td>NaN</td>\n",
              "      <td>NaN</td>\n",
              "      <td>NaN</td>\n",
              "      <td>NaN</td>\n",
              "      <td>SEBACARIBEIRO@YAHOO.COM</td>\n",
              "      <td>NaN</td>\n",
              "      <td>NaN</td>\n",
              "    </tr>\n",
              "    <tr>\n",
              "      <th>4</th>\n",
              "      <td>33600865</td>\n",
              "      <td>1</td>\n",
              "      <td>48</td>\n",
              "      <td>1</td>\n",
              "      <td>VIVI BELLE</td>\n",
              "      <td>2</td>\n",
              "      <td>20190513</td>\n",
              "      <td>0</td>\n",
              "      <td>NaN</td>\n",
              "      <td>NaN</td>\n",
              "      <td>20190513</td>\n",
              "      <td>4781400</td>\n",
              "      <td>4789099</td>\n",
              "      <td>RUA</td>\n",
              "      <td>MARTINS TORRES</td>\n",
              "      <td>542</td>\n",
              "      <td>APT 203;BLOCO 06</td>\n",
              "      <td>SANTA ROSA</td>\n",
              "      <td>24240705.0</td>\n",
              "      <td>RJ</td>\n",
              "      <td>5865</td>\n",
              "      <td>21</td>\n",
              "      <td>2.61022e+07</td>\n",
              "      <td>NaN</td>\n",
              "      <td>NaN</td>\n",
              "      <td>NaN</td>\n",
              "      <td>NaN</td>\n",
              "      <td>vidsouza13@gmail.com</td>\n",
              "      <td>NaN</td>\n",
              "      <td>NaN</td>\n",
              "    </tr>\n",
              "  </tbody>\n",
              "</table>\n",
              "</div>"
            ],
            "text/plain": [
              "   CNPJBase  CNPJOrdem  ...  SitEsp  DataSitEsp\n",
              "0  33600823          1  ...     NaN         NaN\n",
              "1  33600832          1  ...     NaN         NaN\n",
              "2  33600844          1  ...     NaN         NaN\n",
              "3  33600854          1  ...     NaN         NaN\n",
              "4  33600865          1  ...     NaN         NaN\n",
              "\n",
              "[5 rows x 30 columns]"
            ]
          },
          "metadata": {
            "tags": []
          },
          "execution_count": 4
        }
      ]
    },
    {
      "cell_type": "code",
      "metadata": {
        "id": "wHXEb7swrCs1",
        "colab": {
          "base_uri": "https://localhost:8080/"
        },
        "outputId": "c92bcfb1-8816-41d3-a9e3-993f98fa2c7c"
      },
      "source": [
        "#Verificação da quantidade de dados:\n",
        "dados.shape"
      ],
      "execution_count": 5,
      "outputs": [
        {
          "output_type": "execute_result",
          "data": {
            "text/plain": [
              "(5640704, 30)"
            ]
          },
          "metadata": {
            "tags": []
          },
          "execution_count": 5
        }
      ]
    },
    {
      "cell_type": "markdown",
      "metadata": {
        "id": "j_E3AvHXs1PO"
      },
      "source": [
        "#Investigação quanto as quantidades de acordo com o Estado."
      ]
    },
    {
      "cell_type": "code",
      "metadata": {
        "colab": {
          "base_uri": "https://localhost:8080/"
        },
        "id": "TprDPCmCn3Tk",
        "outputId": "b9f92667-8097-4736-92c5-fc4b55d2ea48"
      },
      "source": [
        "#Visualização da contagem do número de CPFS por estado.\n",
        "dados['UF'].value_counts()"
      ],
      "execution_count": 6,
      "outputs": [
        {
          "output_type": "execute_result",
          "data": {
            "text/plain": [
              "SP    1614537\n",
              "MG     619283\n",
              "RJ     491987\n",
              "RS     399715\n",
              "PR     379038\n",
              "BA     286055\n",
              "SC     254639\n",
              "GO     195319\n",
              "PE     172040\n",
              "CE     160256\n",
              "ES     118222\n",
              "PA     116348\n",
              "MT     103308\n",
              "DF      95050\n",
              "MA      86879\n",
              "MS      75966\n",
              "PB      72238\n",
              "RN      65864\n",
              "AM      59586\n",
              "AL      54390\n",
              "PI      49866\n",
              "RO      39950\n",
              "TO      38448\n",
              "SE      38427\n",
              "EX      15883\n",
              "AC      13521\n",
              "AP      13115\n",
              "RR      10773\n",
              "BR          1\n",
              "Name: UF, dtype: int64"
            ]
          },
          "metadata": {
            "tags": []
          },
          "execution_count": 6
        }
      ]
    },
    {
      "cell_type": "markdown",
      "metadata": {
        "id": "iswqO0-QA5ER"
      },
      "source": [
        "Nota-se que além da presença dos 26 estados e do Distrito Federal, ainda existe a presença de dois valores anormais, EX e BR."
      ]
    },
    {
      "cell_type": "code",
      "metadata": {
        "colab": {
          "base_uri": "https://localhost:8080/",
          "height": 492
        },
        "id": "tph17SQVpTps",
        "outputId": "cca2699e-9890-4da0-ca3b-4ef46aa96b3b"
      },
      "source": [
        "#Analise sobre o significado do UF = 'EX'\n",
        "dados.query('UF == \"EX\"').head()"
      ],
      "execution_count": 7,
      "outputs": [
        {
          "output_type": "execute_result",
          "data": {
            "text/html": [
              "<div>\n",
              "<style scoped>\n",
              "    .dataframe tbody tr th:only-of-type {\n",
              "        vertical-align: middle;\n",
              "    }\n",
              "\n",
              "    .dataframe tbody tr th {\n",
              "        vertical-align: top;\n",
              "    }\n",
              "\n",
              "    .dataframe thead th {\n",
              "        text-align: right;\n",
              "    }\n",
              "</style>\n",
              "<table border=\"1\" class=\"dataframe\">\n",
              "  <thead>\n",
              "    <tr style=\"text-align: right;\">\n",
              "      <th></th>\n",
              "      <th>CNPJBase</th>\n",
              "      <th>CNPJOrdem</th>\n",
              "      <th>CNPJDV</th>\n",
              "      <th>IDMatriz</th>\n",
              "      <th>NomeFantasia</th>\n",
              "      <th>SitCad</th>\n",
              "      <th>DataSitCad</th>\n",
              "      <th>MotivoSitCad</th>\n",
              "      <th>CidadeExt</th>\n",
              "      <th>Pais</th>\n",
              "      <th>DataInicio</th>\n",
              "      <th>CNAEPrinc</th>\n",
              "      <th>CNAESec</th>\n",
              "      <th>TipoLogr</th>\n",
              "      <th>Logr</th>\n",
              "      <th>Numero</th>\n",
              "      <th>Compl</th>\n",
              "      <th>Bairro</th>\n",
              "      <th>CEP</th>\n",
              "      <th>UF</th>\n",
              "      <th>Municipio</th>\n",
              "      <th>DDD1</th>\n",
              "      <th>TEL1</th>\n",
              "      <th>DDD2</th>\n",
              "      <th>TEL2</th>\n",
              "      <th>DDDFax</th>\n",
              "      <th>Fax</th>\n",
              "      <th>email</th>\n",
              "      <th>SitEsp</th>\n",
              "      <th>DataSitEsp</th>\n",
              "    </tr>\n",
              "  </thead>\n",
              "  <tbody>\n",
              "    <tr>\n",
              "      <th>544</th>\n",
              "      <td>33606798</td>\n",
              "      <td>1</td>\n",
              "      <td>79</td>\n",
              "      <td>1</td>\n",
              "      <td>NaN</td>\n",
              "      <td>2</td>\n",
              "      <td>20190513</td>\n",
              "      <td>0</td>\n",
              "      <td>NaN</td>\n",
              "      <td>149.0</td>\n",
              "      <td>20190513</td>\n",
              "      <td>6630400</td>\n",
              "      <td>NaN</td>\n",
              "      <td>NaN</td>\n",
              "      <td>QUEEN STREET EAST, 2</td>\n",
              "      <td>0</td>\n",
              "      <td>20TH FLOOR M5C 3G7</td>\n",
              "      <td>TORONTO</td>\n",
              "      <td>NaN</td>\n",
              "      <td>EX</td>\n",
              "      <td>9707</td>\n",
              "      <td>NaN</td>\n",
              "      <td>NaN</td>\n",
              "      <td>NaN</td>\n",
              "      <td>NaN</td>\n",
              "      <td>NaN</td>\n",
              "      <td>NaN</td>\n",
              "      <td>NaN</td>\n",
              "      <td>NaN</td>\n",
              "      <td>NaN</td>\n",
              "    </tr>\n",
              "    <tr>\n",
              "      <th>584</th>\n",
              "      <td>33607263</td>\n",
              "      <td>1</td>\n",
              "      <td>12</td>\n",
              "      <td>1</td>\n",
              "      <td>AGENCIA KTBO</td>\n",
              "      <td>2</td>\n",
              "      <td>20190513</td>\n",
              "      <td>0</td>\n",
              "      <td>MIGUEL HIDALGO</td>\n",
              "      <td>493.0</td>\n",
              "      <td>20190513</td>\n",
              "      <td>7319004</td>\n",
              "      <td>NaN</td>\n",
              "      <td>NaN</td>\n",
              "      <td>CALZADA GRAL. MARIANO ESCOBEDO 555 PISO</td>\n",
              "      <td>S/N</td>\n",
              "      <td>8 Y 9 BOSQUES DE CHAP 11580</td>\n",
              "      <td>MIGUEL HIDALGO</td>\n",
              "      <td>NaN</td>\n",
              "      <td>EX</td>\n",
              "      <td>9707</td>\n",
              "      <td>NaN</td>\n",
              "      <td>NaN</td>\n",
              "      <td>NaN</td>\n",
              "      <td>NaN</td>\n",
              "      <td>NaN</td>\n",
              "      <td>NaN</td>\n",
              "      <td>MARIO@KTBO.COM.BR</td>\n",
              "      <td>NaN</td>\n",
              "      <td>NaN</td>\n",
              "    </tr>\n",
              "    <tr>\n",
              "      <th>1829</th>\n",
              "      <td>33620646</td>\n",
              "      <td>1</td>\n",
              "      <td>20</td>\n",
              "      <td>1</td>\n",
              "      <td>NaN</td>\n",
              "      <td>2</td>\n",
              "      <td>20190514</td>\n",
              "      <td>0</td>\n",
              "      <td>NaN</td>\n",
              "      <td>249.0</td>\n",
              "      <td>20190514</td>\n",
              "      <td>6630400</td>\n",
              "      <td>NaN</td>\n",
              "      <td>NaN</td>\n",
              "      <td>245 SUMMER STREET</td>\n",
              "      <td>0</td>\n",
              "      <td>02210</td>\n",
              "      <td>BOSTON</td>\n",
              "      <td>NaN</td>\n",
              "      <td>EX</td>\n",
              "      <td>9707</td>\n",
              "      <td>NaN</td>\n",
              "      <td>NaN</td>\n",
              "      <td>NaN</td>\n",
              "      <td>NaN</td>\n",
              "      <td>NaN</td>\n",
              "      <td>NaN</td>\n",
              "      <td>NaN</td>\n",
              "      <td>NaN</td>\n",
              "      <td>NaN</td>\n",
              "    </tr>\n",
              "    <tr>\n",
              "      <th>3081</th>\n",
              "      <td>33634059</td>\n",
              "      <td>1</td>\n",
              "      <td>90</td>\n",
              "      <td>1</td>\n",
              "      <td>NaN</td>\n",
              "      <td>2</td>\n",
              "      <td>20190515</td>\n",
              "      <td>0</td>\n",
              "      <td>NaN</td>\n",
              "      <td>399.0</td>\n",
              "      <td>20190515</td>\n",
              "      <td>6630400</td>\n",
              "      <td>NaN</td>\n",
              "      <td>NaN</td>\n",
              "      <td>2-2-2 OTEMACHI CHIYODA-KU 1000004 TOKYO JAPAN</td>\n",
              "      <td>0</td>\n",
              "      <td>1000004</td>\n",
              "      <td>TOKYO</td>\n",
              "      <td>NaN</td>\n",
              "      <td>EX</td>\n",
              "      <td>9707</td>\n",
              "      <td>NaN</td>\n",
              "      <td>NaN</td>\n",
              "      <td>NaN</td>\n",
              "      <td>NaN</td>\n",
              "      <td>NaN</td>\n",
              "      <td>NaN</td>\n",
              "      <td>NaN</td>\n",
              "      <td>NaN</td>\n",
              "      <td>NaN</td>\n",
              "    </tr>\n",
              "    <tr>\n",
              "      <th>4384</th>\n",
              "      <td>33647844</td>\n",
              "      <td>1</td>\n",
              "      <td>88</td>\n",
              "      <td>1</td>\n",
              "      <td>MELLBURRY</td>\n",
              "      <td>2</td>\n",
              "      <td>20190516</td>\n",
              "      <td>0</td>\n",
              "      <td>ROAD TOWN</td>\n",
              "      <td>863.0</td>\n",
              "      <td>20190516</td>\n",
              "      <td>6463800</td>\n",
              "      <td>NaN</td>\n",
              "      <td>NaN</td>\n",
              "      <td>TRIDENT CHAMBERS, WICKHAMS CAY,</td>\n",
              "      <td>S/N</td>\n",
              "      <td>P.O. BOX 146</td>\n",
              "      <td>ROAD TOWN</td>\n",
              "      <td>NaN</td>\n",
              "      <td>EX</td>\n",
              "      <td>9707</td>\n",
              "      <td>NaN</td>\n",
              "      <td>NaN</td>\n",
              "      <td>NaN</td>\n",
              "      <td>NaN</td>\n",
              "      <td>NaN</td>\n",
              "      <td>NaN</td>\n",
              "      <td>NaN</td>\n",
              "      <td>NaN</td>\n",
              "      <td>NaN</td>\n",
              "    </tr>\n",
              "  </tbody>\n",
              "</table>\n",
              "</div>"
            ],
            "text/plain": [
              "      CNPJBase  CNPJOrdem  CNPJDV  ...              email SitEsp  DataSitEsp\n",
              "544   33606798          1      79  ...                NaN    NaN         NaN\n",
              "584   33607263          1      12  ...  MARIO@KTBO.COM.BR    NaN         NaN\n",
              "1829  33620646          1      20  ...                NaN    NaN         NaN\n",
              "3081  33634059          1      90  ...                NaN    NaN         NaN\n",
              "4384  33647844          1      88  ...                NaN    NaN         NaN\n",
              "\n",
              "[5 rows x 30 columns]"
            ]
          },
          "metadata": {
            "tags": []
          },
          "execution_count": 7
        }
      ]
    },
    {
      "cell_type": "code",
      "metadata": {
        "colab": {
          "base_uri": "https://localhost:8080/"
        },
        "id": "_3fMfEjl8rYH",
        "outputId": "6ffacd9f-76ce-4e4f-848f-f779ad0ac46b"
      },
      "source": [
        "dados.query('UF == \"EX\"')['UF'].count()"
      ],
      "execution_count": 8,
      "outputs": [
        {
          "output_type": "execute_result",
          "data": {
            "text/plain": [
              "15883"
            ]
          },
          "metadata": {
            "tags": []
          },
          "execution_count": 8
        }
      ]
    },
    {
      "cell_type": "markdown",
      "metadata": {
        "id": "HWFwXPHd6gOf"
      },
      "source": [
        "Conclui-se que indica CNPJs os quais possuem um endereço no exterior, os quais totalizam 15883 instâncias. "
      ]
    },
    {
      "cell_type": "code",
      "metadata": {
        "colab": {
          "base_uri": "https://localhost:8080/",
          "height": 134
        },
        "id": "E2IzXgq7rHmj",
        "outputId": "c71aa2e6-d7aa-4e8b-eb23-3d10aff3ee32"
      },
      "source": [
        "#Investigação do UF: BR\n",
        "dados.query('UF == \"BR\"')"
      ],
      "execution_count": 9,
      "outputs": [
        {
          "output_type": "execute_result",
          "data": {
            "text/html": [
              "<div>\n",
              "<style scoped>\n",
              "    .dataframe tbody tr th:only-of-type {\n",
              "        vertical-align: middle;\n",
              "    }\n",
              "\n",
              "    .dataframe tbody tr th {\n",
              "        vertical-align: top;\n",
              "    }\n",
              "\n",
              "    .dataframe thead th {\n",
              "        text-align: right;\n",
              "    }\n",
              "</style>\n",
              "<table border=\"1\" class=\"dataframe\">\n",
              "  <thead>\n",
              "    <tr style=\"text-align: right;\">\n",
              "      <th></th>\n",
              "      <th>CNPJBase</th>\n",
              "      <th>CNPJOrdem</th>\n",
              "      <th>CNPJDV</th>\n",
              "      <th>IDMatriz</th>\n",
              "      <th>NomeFantasia</th>\n",
              "      <th>SitCad</th>\n",
              "      <th>DataSitCad</th>\n",
              "      <th>MotivoSitCad</th>\n",
              "      <th>CidadeExt</th>\n",
              "      <th>Pais</th>\n",
              "      <th>DataInicio</th>\n",
              "      <th>CNAEPrinc</th>\n",
              "      <th>CNAESec</th>\n",
              "      <th>TipoLogr</th>\n",
              "      <th>Logr</th>\n",
              "      <th>Numero</th>\n",
              "      <th>Compl</th>\n",
              "      <th>Bairro</th>\n",
              "      <th>CEP</th>\n",
              "      <th>UF</th>\n",
              "      <th>Municipio</th>\n",
              "      <th>DDD1</th>\n",
              "      <th>TEL1</th>\n",
              "      <th>DDD2</th>\n",
              "      <th>TEL2</th>\n",
              "      <th>DDDFax</th>\n",
              "      <th>Fax</th>\n",
              "      <th>email</th>\n",
              "      <th>SitEsp</th>\n",
              "      <th>DataSitEsp</th>\n",
              "    </tr>\n",
              "  </thead>\n",
              "  <tbody>\n",
              "    <tr>\n",
              "      <th>2163139</th>\n",
              "      <td>5269598</td>\n",
              "      <td>1</td>\n",
              "      <td>32</td>\n",
              "      <td>1</td>\n",
              "      <td>NaN</td>\n",
              "      <td>8</td>\n",
              "      <td>20021231</td>\n",
              "      <td>1</td>\n",
              "      <td>NaN</td>\n",
              "      <td>NaN</td>\n",
              "      <td>20020911</td>\n",
              "      <td>9492800</td>\n",
              "      <td>NaN</td>\n",
              "      <td>RUA</td>\n",
              "      <td>DAS MARRECAS</td>\n",
              "      <td>000027</td>\n",
              "      <td>3: ANDAR - CENTRO</td>\n",
              "      <td>NaN</td>\n",
              "      <td>20031120.0</td>\n",
              "      <td>BR</td>\n",
              "      <td>6001</td>\n",
              "      <td>NaN</td>\n",
              "      <td>NaN</td>\n",
              "      <td>NaN</td>\n",
              "      <td>NaN</td>\n",
              "      <td>NaN</td>\n",
              "      <td>NaN</td>\n",
              "      <td>pcb@pcb.org.br</td>\n",
              "      <td>NaN</td>\n",
              "      <td>NaN</td>\n",
              "    </tr>\n",
              "  </tbody>\n",
              "</table>\n",
              "</div>"
            ],
            "text/plain": [
              "         CNPJBase  CNPJOrdem  CNPJDV  ...           email SitEsp  DataSitEsp\n",
              "2163139   5269598          1      32  ...  pcb@pcb.org.br    NaN         NaN\n",
              "\n",
              "[1 rows x 30 columns]"
            ]
          },
          "metadata": {
            "tags": []
          },
          "execution_count": 9
        }
      ]
    },
    {
      "cell_type": "markdown",
      "metadata": {
        "id": "XxqsL7t-rteV"
      },
      "source": [
        "Através dessa análise e utilizando uma ferramenta de pesquisa para verificação do endereço através do CEP (20031-120), conclui-se que a informação foi digitada errada, o UF do endereço é RJ."
      ]
    },
    {
      "cell_type": "code",
      "metadata": {
        "id": "6QUmuSZH9MAA"
      },
      "source": [
        "#Correção do UF informado acima (linha 2136139 e coluna 19):\n",
        "dados.iloc[2163139,19] = 'RJ'"
      ],
      "execution_count": 10,
      "outputs": []
    },
    {
      "cell_type": "code",
      "metadata": {
        "colab": {
          "base_uri": "https://localhost:8080/",
          "height": 69
        },
        "id": "Sy-o4x-WAapw",
        "outputId": "0a632edb-0ef2-48fe-cb68-471b9ae8f757"
      },
      "source": [
        "#Verificação se o valor foi corrigido:\n",
        "dados.query('UF == \"BR\"')"
      ],
      "execution_count": 11,
      "outputs": [
        {
          "output_type": "execute_result",
          "data": {
            "text/html": [
              "<div>\n",
              "<style scoped>\n",
              "    .dataframe tbody tr th:only-of-type {\n",
              "        vertical-align: middle;\n",
              "    }\n",
              "\n",
              "    .dataframe tbody tr th {\n",
              "        vertical-align: top;\n",
              "    }\n",
              "\n",
              "    .dataframe thead th {\n",
              "        text-align: right;\n",
              "    }\n",
              "</style>\n",
              "<table border=\"1\" class=\"dataframe\">\n",
              "  <thead>\n",
              "    <tr style=\"text-align: right;\">\n",
              "      <th></th>\n",
              "      <th>CNPJBase</th>\n",
              "      <th>CNPJOrdem</th>\n",
              "      <th>CNPJDV</th>\n",
              "      <th>IDMatriz</th>\n",
              "      <th>NomeFantasia</th>\n",
              "      <th>SitCad</th>\n",
              "      <th>DataSitCad</th>\n",
              "      <th>MotivoSitCad</th>\n",
              "      <th>CidadeExt</th>\n",
              "      <th>Pais</th>\n",
              "      <th>DataInicio</th>\n",
              "      <th>CNAEPrinc</th>\n",
              "      <th>CNAESec</th>\n",
              "      <th>TipoLogr</th>\n",
              "      <th>Logr</th>\n",
              "      <th>Numero</th>\n",
              "      <th>Compl</th>\n",
              "      <th>Bairro</th>\n",
              "      <th>CEP</th>\n",
              "      <th>UF</th>\n",
              "      <th>Municipio</th>\n",
              "      <th>DDD1</th>\n",
              "      <th>TEL1</th>\n",
              "      <th>DDD2</th>\n",
              "      <th>TEL2</th>\n",
              "      <th>DDDFax</th>\n",
              "      <th>Fax</th>\n",
              "      <th>email</th>\n",
              "      <th>SitEsp</th>\n",
              "      <th>DataSitEsp</th>\n",
              "    </tr>\n",
              "  </thead>\n",
              "  <tbody>\n",
              "  </tbody>\n",
              "</table>\n",
              "</div>"
            ],
            "text/plain": [
              "Empty DataFrame\n",
              "Columns: [CNPJBase, CNPJOrdem, CNPJDV, IDMatriz, NomeFantasia, SitCad, DataSitCad, MotivoSitCad, CidadeExt, Pais, DataInicio, CNAEPrinc, CNAESec, TipoLogr, Logr, Numero, Compl, Bairro, CEP, UF, Municipio, DDD1, TEL1, DDD2, TEL2, DDDFax, Fax, email, SitEsp, DataSitEsp]\n",
              "Index: []"
            ]
          },
          "metadata": {
            "tags": []
          },
          "execution_count": 11
        }
      ]
    },
    {
      "cell_type": "code",
      "metadata": {
        "colab": {
          "base_uri": "https://localhost:8080/",
          "height": 429
        },
        "id": "ToMF8CES16zH",
        "outputId": "9309fa9b-0763-4554-8125-812fcb497ab9"
      },
      "source": [
        "#Criação dos indices para order o histograma do maior para o menor\n",
        "contUF = dados['UF'].value_counts().index\n",
        "\n",
        "#Impressão do Histograma\n",
        "sns.set()\n",
        "plt.figure(figsize=(10, 6))\n",
        "ax = sns.countplot(x = 'UF', data=dados, order = contUF)\n",
        "ax.set_title('Quantidade de CNPJ por Estado', fontsize=30)\n",
        "ax.set_xlabel('Estados',fontsize=20)\n",
        "ax.set_ylabel('Contagem em Milhões',fontsize=20)\n",
        "ax.tick_params(labelsize=10)\n",
        "plt.show()"
      ],
      "execution_count": 12,
      "outputs": [
        {
          "output_type": "display_data",
          "data": {
            "image/png": "[encoded data removed]",
            "text/plain": [
              "<Figure size 720x432 with 1 Axes>"
            ]
          },
          "metadata": {
            "tags": []
          }
        }
      ]
    },
    {
      "cell_type": "markdown",
      "metadata": {
        "id": "lmRpcDXCCNHY"
      },
      "source": [
        "#Análise quanto a data de ínicio"
      ]
    },
    {
      "cell_type": "code",
      "metadata": {
        "colab": {
          "base_uri": "https://localhost:8080/"
        },
        "id": "I-4gG1OUE8uB",
        "outputId": "1b849972-41db-463c-a85e-172f2e785f56"
      },
      "source": [
        "#Descrição dos dados para identificação do valor máximo e mínimo:\n",
        "dados['DataInicio'].describe()"
      ],
      "execution_count": 13,
      "outputs": [
        {
          "output_type": "execute_result",
          "data": {
            "text/plain": [
              "count    5.640704e+06\n",
              "mean     2.009045e+07\n",
              "std      1.260285e+05\n",
              "min      1.901010e+07\n",
              "25%      2.002102e+07\n",
              "50%      2.014040e+07\n",
              "75%      2.019072e+07\n",
              "max      2.021051e+07\n",
              "Name: DataInicio, dtype: float64"
            ]
          },
          "metadata": {
            "tags": []
          },
          "execution_count": 13
        }
      ]
    },
    {
      "cell_type": "code",
      "metadata": {
        "id": "77gh5OzCLeQi"
      },
      "source": [
        "#Os dados se encontram no formato Float, por isso é necessário uma transformação para DateTime:\n",
        "dados['DataInicio'] = pd.to_datetime(dados['DataInicio'], format='%Y%m%d') "
      ],
      "execution_count": 14,
      "outputs": []
    },
    {
      "cell_type": "code",
      "metadata": {
        "colab": {
          "base_uri": "https://localhost:8080/"
        },
        "id": "-7n4UP4zmI7i",
        "outputId": "72321114-b610-4a65-8108-2192f163bc8f"
      },
      "source": [
        "#Conferencia da mudança do tipo de dados:\n",
        "dados['DataInicio'].describe()"
      ],
      "execution_count": 15,
      "outputs": [
        {
          "output_type": "stream",
          "text": [
            "/usr/local/lib/python3.7/dist-packages/ipykernel_launcher.py:2: FutureWarning: Treating datetime data as categorical rather than numeric in `.describe` is deprecated and will be removed in a future version of pandas. Specify `datetime_is_numeric=True` to silence this warning and adopt the future behavior now.\n",
            "  \n"
          ],
          "name": "stderr"
        },
        {
          "output_type": "execute_result",
          "data": {
            "text/plain": [
              "count                 5640704\n",
              "unique                  19333\n",
              "top       2020-09-26 00:00:00\n",
              "freq                    30300\n",
              "first     1901-01-01 00:00:00\n",
              "last      2021-05-11 00:00:00\n",
              "Name: DataInicio, dtype: object"
            ]
          },
          "metadata": {
            "tags": []
          },
          "execution_count": 15
        }
      ]
    },
    {
      "cell_type": "code",
      "metadata": {
        "id": "xOUk7tpy0S7e"
      },
      "source": [
        "#Criando objeto para estudo do DF agrupado por ano:\n",
        "analise_data = dados['DataInicio'].dt.year.value_counts()"
      ],
      "execution_count": 16,
      "outputs": []
    },
    {
      "cell_type": "code",
      "metadata": {
        "colab": {
          "base_uri": "https://localhost:8080/",
          "height": 429
        },
        "id": "vkHjUdFWm_AK",
        "outputId": "28ad836b-0865-434e-a0b0-325539bbfe18"
      },
      "source": [
        "#Gráfico para análise da quantidade de CNPJs iniciados por ano:\n",
        "plt.figure(figsize=(10, 6))\n",
        "ax = sns.lineplot(data=analise_data)\n",
        "ax.set_title('Quantidade de CNPJs Iniciados por Ano', fontsize=30)\n",
        "ax.set_xlabel('Anos',fontsize=20)\n",
        "ax.set_ylabel('Quantidade de CNPJ Iniciados',fontsize=20)\n",
        "ax.tick_params(labelsize=10)\n",
        "plt.show()"
      ],
      "execution_count": 17,
      "outputs": [
        {
          "output_type": "display_data",
          "data": {
            "image/png": "[encoded data removed]",
            "text/plain": [
              "<Figure size 720x432 with 1 Axes>"
            ]
          },
          "metadata": {
            "tags": []
          }
        }
      ]
    },
    {
      "cell_type": "markdown",
      "metadata": {
        "id": "VlSp_DQhqf77"
      },
      "source": [
        "#Analise de Situação Cadastral"
      ]
    },
    {
      "cell_type": "markdown",
      "metadata": {
        "id": "qYcvh9ccGgM2"
      },
      "source": [
        "CÓDIGO DA SITUAÇÃO CADASTRAL:  \n",
        "**1 – NULA**  \n",
        "As companhias ou suas filiais que têm características duvidosas são enquadradas como situação cadastral nula. Pode ser um caso de duplicidade de inscrição municipal ou estadual, desobrigação de ter esse número ou a constatação de ações ilícitas no ato de registro.\n",
        "    \n",
        "**2 – ATIVA**  \n",
        "O negócio está regularizado e não existem pendências.  \n",
        "\n",
        "**3 – SUSPENSA**   \n",
        "O CNPJ apresenta algum problema, como a matriz ou a filial tem domicílio no exterior, deixou de cumprir as obrigações, há inconsistência nos dados ou indícios de fraudes. É preciso investigar e ter atenção.    \n",
        "   \n",
        "**4 – INAPTA**   \n",
        "As empresas que deixam de apresentar demonstrativos e declarações contábeis por dois anos consecutivos são enquadradas nessa classificação. Alguns exemplos desses documentos são: escrituração contábil digital, declaração de créditos e débitos tributários, declaração simplificada de pessoa jurídica etc.\n",
        "\n",
        "O estabelecimento inapto também pode sofrer outras sanções, como: ser impedido de participar de licitações ou de receber incentivos financeiros e fiscais, e ser incluído no Cadastro Informativo de Créditos Não Quitados do Setor Público Federal (Cadin).\n",
        "   \n",
        "**8 – BAIXADA**  \n",
        "A empresa que tem sua inscrição no CNPJ baixada é aquela que fez essa solicitação a conceder de ofício ou ao órgão competente. Pode ser feita a reativação, se o funcionamento do negócio for constatado.  "
      ]
    },
    {
      "cell_type": "code",
      "metadata": {
        "colab": {
          "base_uri": "https://localhost:8080/"
        },
        "id": "wlLS80nxqjVc",
        "outputId": "ab2b8dc4-6593-449c-ddce-bef3a42c9a4b"
      },
      "source": [
        "dados['SitCad'].value_counts()"
      ],
      "execution_count": 18,
      "outputs": [
        {
          "output_type": "execute_result",
          "data": {
            "text/plain": [
              "2    2609482\n",
              "8    2259736\n",
              "4     745726\n",
              "3      17390\n",
              "1       8370\n",
              "Name: SitCad, dtype: int64"
            ]
          },
          "metadata": {
            "tags": []
          },
          "execution_count": 18
        }
      ]
    },
    {
      "cell_type": "markdown",
      "metadata": {
        "id": "PEYCfFEAsEN8"
      },
      "source": [
        "Após uma simples análise de valores percebemos que os CNPJs ativos representam menos da metade dos valores totais.\n",
        "Podemos repetir a analise por estado, dividindo o resultado por situação cadastral. "
      ]
    },
    {
      "cell_type": "code",
      "metadata": {
        "colab": {
          "base_uri": "https://localhost:8080/",
          "height": 942
        },
        "id": "fkPagvO94kl5",
        "outputId": "7b8b11b8-b013-4643-b3c7-03913e3cba9b"
      },
      "source": [
        "ct = pd.crosstab(dados.UF, dados.SitCad)\n",
        "ct"
      ],
      "execution_count": 19,
      "outputs": [
        {
          "output_type": "execute_result",
          "data": {
            "text/html": [
              "<div>\n",
              "<style scoped>\n",
              "    .dataframe tbody tr th:only-of-type {\n",
              "        vertical-align: middle;\n",
              "    }\n",
              "\n",
              "    .dataframe tbody tr th {\n",
              "        vertical-align: top;\n",
              "    }\n",
              "\n",
              "    .dataframe thead th {\n",
              "        text-align: right;\n",
              "    }\n",
              "</style>\n",
              "<table border=\"1\" class=\"dataframe\">\n",
              "  <thead>\n",
              "    <tr style=\"text-align: right;\">\n",
              "      <th>SitCad</th>\n",
              "      <th>1</th>\n",
              "      <th>2</th>\n",
              "      <th>3</th>\n",
              "      <th>4</th>\n",
              "      <th>8</th>\n",
              "    </tr>\n",
              "    <tr>\n",
              "      <th>UF</th>\n",
              "      <th></th>\n",
              "      <th></th>\n",
              "      <th></th>\n",
              "      <th></th>\n",
              "      <th></th>\n",
              "    </tr>\n",
              "  </thead>\n",
              "  <tbody>\n",
              "    <tr>\n",
              "      <th>AC</th>\n",
              "      <td>10</td>\n",
              "      <td>5108</td>\n",
              "      <td>14</td>\n",
              "      <td>2575</td>\n",
              "      <td>5814</td>\n",
              "    </tr>\n",
              "    <tr>\n",
              "      <th>AL</th>\n",
              "      <td>70</td>\n",
              "      <td>22382</td>\n",
              "      <td>325</td>\n",
              "      <td>8417</td>\n",
              "      <td>23196</td>\n",
              "    </tr>\n",
              "    <tr>\n",
              "      <th>AM</th>\n",
              "      <td>47</td>\n",
              "      <td>24949</td>\n",
              "      <td>111</td>\n",
              "      <td>10812</td>\n",
              "      <td>23667</td>\n",
              "    </tr>\n",
              "    <tr>\n",
              "      <th>AP</th>\n",
              "      <td>8</td>\n",
              "      <td>4785</td>\n",
              "      <td>37</td>\n",
              "      <td>2818</td>\n",
              "      <td>5467</td>\n",
              "    </tr>\n",
              "    <tr>\n",
              "      <th>BA</th>\n",
              "      <td>300</td>\n",
              "      <td>122569</td>\n",
              "      <td>1371</td>\n",
              "      <td>45261</td>\n",
              "      <td>116554</td>\n",
              "    </tr>\n",
              "    <tr>\n",
              "      <th>CE</th>\n",
              "      <td>207</td>\n",
              "      <td>72175</td>\n",
              "      <td>553</td>\n",
              "      <td>24330</td>\n",
              "      <td>62991</td>\n",
              "    </tr>\n",
              "    <tr>\n",
              "      <th>DF</th>\n",
              "      <td>195</td>\n",
              "      <td>45301</td>\n",
              "      <td>362</td>\n",
              "      <td>15283</td>\n",
              "      <td>33909</td>\n",
              "    </tr>\n",
              "    <tr>\n",
              "      <th>ES</th>\n",
              "      <td>206</td>\n",
              "      <td>57294</td>\n",
              "      <td>367</td>\n",
              "      <td>15201</td>\n",
              "      <td>45154</td>\n",
              "    </tr>\n",
              "    <tr>\n",
              "      <th>EX</th>\n",
              "      <td>53</td>\n",
              "      <td>15056</td>\n",
              "      <td>258</td>\n",
              "      <td>2</td>\n",
              "      <td>514</td>\n",
              "    </tr>\n",
              "    <tr>\n",
              "      <th>GO</th>\n",
              "      <td>123</td>\n",
              "      <td>89944</td>\n",
              "      <td>622</td>\n",
              "      <td>27075</td>\n",
              "      <td>77555</td>\n",
              "    </tr>\n",
              "    <tr>\n",
              "      <th>MA</th>\n",
              "      <td>67</td>\n",
              "      <td>33760</td>\n",
              "      <td>234</td>\n",
              "      <td>15229</td>\n",
              "      <td>37589</td>\n",
              "    </tr>\n",
              "    <tr>\n",
              "      <th>MG</th>\n",
              "      <td>1072</td>\n",
              "      <td>276118</td>\n",
              "      <td>3003</td>\n",
              "      <td>67773</td>\n",
              "      <td>271317</td>\n",
              "    </tr>\n",
              "    <tr>\n",
              "      <th>MS</th>\n",
              "      <td>43</td>\n",
              "      <td>34984</td>\n",
              "      <td>179</td>\n",
              "      <td>9909</td>\n",
              "      <td>30851</td>\n",
              "    </tr>\n",
              "    <tr>\n",
              "      <th>MT</th>\n",
              "      <td>104</td>\n",
              "      <td>46855</td>\n",
              "      <td>397</td>\n",
              "      <td>15239</td>\n",
              "      <td>40713</td>\n",
              "    </tr>\n",
              "    <tr>\n",
              "      <th>PA</th>\n",
              "      <td>83</td>\n",
              "      <td>50371</td>\n",
              "      <td>377</td>\n",
              "      <td>19821</td>\n",
              "      <td>45696</td>\n",
              "    </tr>\n",
              "    <tr>\n",
              "      <th>PB</th>\n",
              "      <td>136</td>\n",
              "      <td>32549</td>\n",
              "      <td>136</td>\n",
              "      <td>9856</td>\n",
              "      <td>29561</td>\n",
              "    </tr>\n",
              "    <tr>\n",
              "      <th>PE</th>\n",
              "      <td>208</td>\n",
              "      <td>73206</td>\n",
              "      <td>544</td>\n",
              "      <td>26545</td>\n",
              "      <td>71537</td>\n",
              "    </tr>\n",
              "    <tr>\n",
              "      <th>PI</th>\n",
              "      <td>40</td>\n",
              "      <td>21803</td>\n",
              "      <td>55</td>\n",
              "      <td>7359</td>\n",
              "      <td>20609</td>\n",
              "    </tr>\n",
              "    <tr>\n",
              "      <th>PR</th>\n",
              "      <td>403</td>\n",
              "      <td>181405</td>\n",
              "      <td>708</td>\n",
              "      <td>44949</td>\n",
              "      <td>151573</td>\n",
              "    </tr>\n",
              "    <tr>\n",
              "      <th>RJ</th>\n",
              "      <td>1702</td>\n",
              "      <td>236163</td>\n",
              "      <td>1627</td>\n",
              "      <td>77103</td>\n",
              "      <td>175393</td>\n",
              "    </tr>\n",
              "    <tr>\n",
              "      <th>RN</th>\n",
              "      <td>46</td>\n",
              "      <td>29668</td>\n",
              "      <td>257</td>\n",
              "      <td>9315</td>\n",
              "      <td>26578</td>\n",
              "    </tr>\n",
              "    <tr>\n",
              "      <th>RO</th>\n",
              "      <td>35</td>\n",
              "      <td>15920</td>\n",
              "      <td>111</td>\n",
              "      <td>6082</td>\n",
              "      <td>17802</td>\n",
              "    </tr>\n",
              "    <tr>\n",
              "      <th>RR</th>\n",
              "      <td>8</td>\n",
              "      <td>4027</td>\n",
              "      <td>3</td>\n",
              "      <td>1718</td>\n",
              "      <td>5017</td>\n",
              "    </tr>\n",
              "    <tr>\n",
              "      <th>RS</th>\n",
              "      <td>572</td>\n",
              "      <td>169147</td>\n",
              "      <td>808</td>\n",
              "      <td>49677</td>\n",
              "      <td>179511</td>\n",
              "    </tr>\n",
              "    <tr>\n",
              "      <th>SC</th>\n",
              "      <td>499</td>\n",
              "      <td>126309</td>\n",
              "      <td>577</td>\n",
              "      <td>26450</td>\n",
              "      <td>100804</td>\n",
              "    </tr>\n",
              "    <tr>\n",
              "      <th>SE</th>\n",
              "      <td>53</td>\n",
              "      <td>16952</td>\n",
              "      <td>177</td>\n",
              "      <td>5024</td>\n",
              "      <td>16221</td>\n",
              "    </tr>\n",
              "    <tr>\n",
              "      <th>SP</th>\n",
              "      <td>2070</td>\n",
              "      <td>784685</td>\n",
              "      <td>4062</td>\n",
              "      <td>196049</td>\n",
              "      <td>627671</td>\n",
              "    </tr>\n",
              "    <tr>\n",
              "      <th>TO</th>\n",
              "      <td>10</td>\n",
              "      <td>15997</td>\n",
              "      <td>115</td>\n",
              "      <td>5854</td>\n",
              "      <td>16472</td>\n",
              "    </tr>\n",
              "  </tbody>\n",
              "</table>\n",
              "</div>"
            ],
            "text/plain": [
              "SitCad     1       2     3       4       8\n",
              "UF                                        \n",
              "AC        10    5108    14    2575    5814\n",
              "AL        70   22382   325    8417   23196\n",
              "AM        47   24949   111   10812   23667\n",
              "AP         8    4785    37    2818    5467\n",
              "BA       300  122569  1371   45261  116554\n",
              "CE       207   72175   553   24330   62991\n",
              "DF       195   45301   362   15283   33909\n",
              "ES       206   57294   367   15201   45154\n",
              "EX        53   15056   258       2     514\n",
              "GO       123   89944   622   27075   77555\n",
              "MA        67   33760   234   15229   37589\n",
              "MG      1072  276118  3003   67773  271317\n",
              "MS        43   34984   179    9909   30851\n",
              "MT       104   46855   397   15239   40713\n",
              "PA        83   50371   377   19821   45696\n",
              "PB       136   32549   136    9856   29561\n",
              "PE       208   73206   544   26545   71537\n",
              "PI        40   21803    55    7359   20609\n",
              "PR       403  181405   708   44949  151573\n",
              "RJ      1702  236163  1627   77103  175393\n",
              "RN        46   29668   257    9315   26578\n",
              "RO        35   15920   111    6082   17802\n",
              "RR         8    4027     3    1718    5017\n",
              "RS       572  169147   808   49677  179511\n",
              "SC       499  126309   577   26450  100804\n",
              "SE        53   16952   177    5024   16221\n",
              "SP      2070  784685  4062  196049  627671\n",
              "TO        10   15997   115    5854   16472"
            ]
          },
          "metadata": {
            "tags": []
          },
          "execution_count": 19
        }
      ]
    },
    {
      "cell_type": "code",
      "metadata": {
        "colab": {
          "base_uri": "https://localhost:8080/",
          "height": 903
        },
        "id": "3s-5mkdm3m1x",
        "outputId": "d10e0e87-769c-4491-d624-026a8f0fe8db"
      },
      "source": [
        "stacked = ct.stack().reset_index().rename(columns={0:'value'})\n",
        "plt.figure(figsize=(20, 16))\n",
        "ax = sns.barplot(x=stacked.UF, y=stacked.value, hue=stacked.SitCad, order =contUF)\n",
        "ax.set_title('Quantidade de CNPJs por Estado', fontsize=30)\n",
        "ax.set_xlabel('UF',fontsize=20)\n",
        "ax.set_ylabel('Quantidade de CNPJ',fontsize=20)\n",
        "ax.tick_params(labelsize=10)\n",
        "plt.show()"
      ],
      "execution_count": 20,
      "outputs": [
        {
          "output_type": "display_data",
          "data": {
            "image/png": "[encoded data removed]",
            "text/plain": [
              "<Figure size 1440x1152 with 1 Axes>"
            ]
          },
          "metadata": {
            "tags": []
          }
        }
      ]
    },
    {
      "cell_type": "markdown",
      "metadata": {
        "id": "jT14VQWXCMGk"
      },
      "source": [
        "#Analise CNAE"
      ]
    },
    {
      "cell_type": "code",
      "metadata": {
        "colab": {
          "base_uri": "https://localhost:8080/"
        },
        "id": "vffGnxvxCLuV",
        "outputId": "a52bfb8c-483b-49b4-8c50-2c924510e3ac"
      },
      "source": [
        "#Analise dos 5 maiores CNAE Principais\n",
        "dados['CNAEPrinc'].value_counts().head()"
      ],
      "execution_count": 21,
      "outputs": [
        {
          "output_type": "execute_result",
          "data": {
            "text/plain": [
              "9492800    336696\n",
              "4781400    325640\n",
              "8888888    180827\n",
              "5611203    178560\n",
              "9602501    158067\n",
              "Name: CNAEPrinc, dtype: int64"
            ]
          },
          "metadata": {
            "tags": []
          },
          "execution_count": 21
        }
      ]
    },
    {
      "cell_type": "code",
      "metadata": {
        "colab": {
          "base_uri": "https://localhost:8080/",
          "height": 655
        },
        "id": "xpovs1hvDEJt",
        "outputId": "7bf07c24-e34d-4c1c-a5b8-0b95f1c552e5"
      },
      "source": [
        "#Porém o dado acima nos mostra todas as situações cadastrais.\n",
        "#Uma analise melhor ocorre quando buscamos apenas os CNPJs ativos:\n",
        "analise_ativos = dados.query('SitCad == 2')\n",
        "analise_ativos"
      ],
      "execution_count": 22,
      "outputs": [
        {
          "output_type": "execute_result",
          "data": {
            "text/html": [
              "<div>\n",
              "<style scoped>\n",
              "    .dataframe tbody tr th:only-of-type {\n",
              "        vertical-align: middle;\n",
              "    }\n",
              "\n",
              "    .dataframe tbody tr th {\n",
              "        vertical-align: top;\n",
              "    }\n",
              "\n",
              "    .dataframe thead th {\n",
              "        text-align: right;\n",
              "    }\n",
              "</style>\n",
              "<table border=\"1\" class=\"dataframe\">\n",
              "  <thead>\n",
              "    <tr style=\"text-align: right;\">\n",
              "      <th></th>\n",
              "      <th>CNPJBase</th>\n",
              "      <th>CNPJOrdem</th>\n",
              "      <th>CNPJDV</th>\n",
              "      <th>IDMatriz</th>\n",
              "      <th>NomeFantasia</th>\n",
              "      <th>SitCad</th>\n",
              "      <th>DataSitCad</th>\n",
              "      <th>MotivoSitCad</th>\n",
              "      <th>CidadeExt</th>\n",
              "      <th>Pais</th>\n",
              "      <th>DataInicio</th>\n",
              "      <th>CNAEPrinc</th>\n",
              "      <th>CNAESec</th>\n",
              "      <th>TipoLogr</th>\n",
              "      <th>Logr</th>\n",
              "      <th>Numero</th>\n",
              "      <th>Compl</th>\n",
              "      <th>Bairro</th>\n",
              "      <th>CEP</th>\n",
              "      <th>UF</th>\n",
              "      <th>Municipio</th>\n",
              "      <th>DDD1</th>\n",
              "      <th>TEL1</th>\n",
              "      <th>DDD2</th>\n",
              "      <th>TEL2</th>\n",
              "      <th>DDDFax</th>\n",
              "      <th>Fax</th>\n",
              "      <th>email</th>\n",
              "      <th>SitEsp</th>\n",
              "      <th>DataSitEsp</th>\n",
              "    </tr>\n",
              "  </thead>\n",
              "  <tbody>\n",
              "    <tr>\n",
              "      <th>1</th>\n",
              "      <td>33600832</td>\n",
              "      <td>1</td>\n",
              "      <td>6</td>\n",
              "      <td>1</td>\n",
              "      <td>DALUARI BOUTIQUE</td>\n",
              "      <td>2</td>\n",
              "      <td>20190513</td>\n",
              "      <td>0</td>\n",
              "      <td>NaN</td>\n",
              "      <td>NaN</td>\n",
              "      <td>2019-05-13</td>\n",
              "      <td>4781400</td>\n",
              "      <td>4782201,4782202,4783101,4783102</td>\n",
              "      <td>AVENIDA</td>\n",
              "      <td>JOSE TOZZI</td>\n",
              "      <td>1831</td>\n",
              "      <td>LOJA  04</td>\n",
              "      <td>CENTRO</td>\n",
              "      <td>29930245.0</td>\n",
              "      <td>ES</td>\n",
              "      <td>5697</td>\n",
              "      <td>27</td>\n",
              "      <td>3.76382e+07</td>\n",
              "      <td>NaN</td>\n",
              "      <td>NaN</td>\n",
              "      <td>NaN</td>\n",
              "      <td>NaN</td>\n",
              "      <td>CADASTRO@PEREIRABCONTABILIDADE.COM.BR</td>\n",
              "      <td>NaN</td>\n",
              "      <td>NaN</td>\n",
              "    </tr>\n",
              "    <tr>\n",
              "      <th>2</th>\n",
              "      <td>33600844</td>\n",
              "      <td>1</td>\n",
              "      <td>22</td>\n",
              "      <td>1</td>\n",
              "      <td>NaN</td>\n",
              "      <td>2</td>\n",
              "      <td>20190513</td>\n",
              "      <td>0</td>\n",
              "      <td>NaN</td>\n",
              "      <td>NaN</td>\n",
              "      <td>2019-05-13</td>\n",
              "      <td>4399103</td>\n",
              "      <td>4330404</td>\n",
              "      <td>AVENIDA</td>\n",
              "      <td>TOKISHIRO TOYAMA</td>\n",
              "      <td>194</td>\n",
              "      <td>NaN</td>\n",
              "      <td>CENTRO</td>\n",
              "      <td>18180000.0</td>\n",
              "      <td>SP</td>\n",
              "      <td>7171</td>\n",
              "      <td>15</td>\n",
              "      <td>9.98423e+07</td>\n",
              "      <td>NaN</td>\n",
              "      <td>NaN</td>\n",
              "      <td>NaN</td>\n",
              "      <td>NaN</td>\n",
              "      <td>NaN</td>\n",
              "      <td>NaN</td>\n",
              "      <td>NaN</td>\n",
              "    </tr>\n",
              "    <tr>\n",
              "      <th>3</th>\n",
              "      <td>33600854</td>\n",
              "      <td>1</td>\n",
              "      <td>68</td>\n",
              "      <td>1</td>\n",
              "      <td>IARA GASTROPEDIATRA</td>\n",
              "      <td>2</td>\n",
              "      <td>20190513</td>\n",
              "      <td>0</td>\n",
              "      <td>NaN</td>\n",
              "      <td>NaN</td>\n",
              "      <td>2019-05-13</td>\n",
              "      <td>8610102</td>\n",
              "      <td>8630503</td>\n",
              "      <td>RUA</td>\n",
              "      <td>DEZ</td>\n",
              "      <td>SN</td>\n",
              "      <td>NaN</td>\n",
              "      <td>PLANALTO VINHAIS II</td>\n",
              "      <td>65074863.0</td>\n",
              "      <td>MA</td>\n",
              "      <td>921</td>\n",
              "      <td>98</td>\n",
              "      <td>8.1771e+07</td>\n",
              "      <td>NaN</td>\n",
              "      <td>NaN</td>\n",
              "      <td>NaN</td>\n",
              "      <td>NaN</td>\n",
              "      <td>SEBACARIBEIRO@YAHOO.COM</td>\n",
              "      <td>NaN</td>\n",
              "      <td>NaN</td>\n",
              "    </tr>\n",
              "    <tr>\n",
              "      <th>4</th>\n",
              "      <td>33600865</td>\n",
              "      <td>1</td>\n",
              "      <td>48</td>\n",
              "      <td>1</td>\n",
              "      <td>VIVI BELLE</td>\n",
              "      <td>2</td>\n",
              "      <td>20190513</td>\n",
              "      <td>0</td>\n",
              "      <td>NaN</td>\n",
              "      <td>NaN</td>\n",
              "      <td>2019-05-13</td>\n",
              "      <td>4781400</td>\n",
              "      <td>4789099</td>\n",
              "      <td>RUA</td>\n",
              "      <td>MARTINS TORRES</td>\n",
              "      <td>542</td>\n",
              "      <td>APT 203;BLOCO 06</td>\n",
              "      <td>SANTA ROSA</td>\n",
              "      <td>24240705.0</td>\n",
              "      <td>RJ</td>\n",
              "      <td>5865</td>\n",
              "      <td>21</td>\n",
              "      <td>2.61022e+07</td>\n",
              "      <td>NaN</td>\n",
              "      <td>NaN</td>\n",
              "      <td>NaN</td>\n",
              "      <td>NaN</td>\n",
              "      <td>vidsouza13@gmail.com</td>\n",
              "      <td>NaN</td>\n",
              "      <td>NaN</td>\n",
              "    </tr>\n",
              "    <tr>\n",
              "      <th>5</th>\n",
              "      <td>33600878</td>\n",
              "      <td>1</td>\n",
              "      <td>17</td>\n",
              "      <td>1</td>\n",
              "      <td>MEYER SERVICOS MEDICOS</td>\n",
              "      <td>2</td>\n",
              "      <td>20190513</td>\n",
              "      <td>0</td>\n",
              "      <td>NaN</td>\n",
              "      <td>NaN</td>\n",
              "      <td>2019-05-13</td>\n",
              "      <td>8630503</td>\n",
              "      <td>8630501</td>\n",
              "      <td>RUA</td>\n",
              "      <td>EUNICE FERRAZ FERNANDES</td>\n",
              "      <td>206</td>\n",
              "      <td>SALA  07</td>\n",
              "      <td>JARDIM DO LAGO</td>\n",
              "      <td>12914500.0</td>\n",
              "      <td>SP</td>\n",
              "      <td>6251</td>\n",
              "      <td>11</td>\n",
              "      <td>9.71639e+07</td>\n",
              "      <td>11.0</td>\n",
              "      <td>9.91863e+07</td>\n",
              "      <td>11.0</td>\n",
              "      <td>4.03377e+07</td>\n",
              "      <td>JORUBIOMEYER@GMAIL.COM</td>\n",
              "      <td>NaN</td>\n",
              "      <td>NaN</td>\n",
              "    </tr>\n",
              "    <tr>\n",
              "      <th>...</th>\n",
              "      <td>...</td>\n",
              "      <td>...</td>\n",
              "      <td>...</td>\n",
              "      <td>...</td>\n",
              "      <td>...</td>\n",
              "      <td>...</td>\n",
              "      <td>...</td>\n",
              "      <td>...</td>\n",
              "      <td>...</td>\n",
              "      <td>...</td>\n",
              "      <td>...</td>\n",
              "      <td>...</td>\n",
              "      <td>...</td>\n",
              "      <td>...</td>\n",
              "      <td>...</td>\n",
              "      <td>...</td>\n",
              "      <td>...</td>\n",
              "      <td>...</td>\n",
              "      <td>...</td>\n",
              "      <td>...</td>\n",
              "      <td>...</td>\n",
              "      <td>...</td>\n",
              "      <td>...</td>\n",
              "      <td>...</td>\n",
              "      <td>...</td>\n",
              "      <td>...</td>\n",
              "      <td>...</td>\n",
              "      <td>...</td>\n",
              "      <td>...</td>\n",
              "      <td>...</td>\n",
              "    </tr>\n",
              "    <tr>\n",
              "      <th>5640699</th>\n",
              "      <td>41906057</td>\n",
              "      <td>1</td>\n",
              "      <td>31</td>\n",
              "      <td>1</td>\n",
              "      <td>MARILDA HELENA</td>\n",
              "      <td>2</td>\n",
              "      <td>20210511</td>\n",
              "      <td>0</td>\n",
              "      <td>NaN</td>\n",
              "      <td>NaN</td>\n",
              "      <td>2021-05-11</td>\n",
              "      <td>9700500</td>\n",
              "      <td>NaN</td>\n",
              "      <td>RUA</td>\n",
              "      <td>DAS VIOLETAS</td>\n",
              "      <td>491</td>\n",
              "      <td>NaN</td>\n",
              "      <td>CIDADE ALEGRIA</td>\n",
              "      <td>27525141.0</td>\n",
              "      <td>RJ</td>\n",
              "      <td>5883</td>\n",
              "      <td>24</td>\n",
              "      <td>9.88225e+07</td>\n",
              "      <td>NaN</td>\n",
              "      <td>NaN</td>\n",
              "      <td>NaN</td>\n",
              "      <td>NaN</td>\n",
              "      <td>LENANOGUEIRA@YAHOO.COM.BR</td>\n",
              "      <td>NaN</td>\n",
              "      <td>NaN</td>\n",
              "    </tr>\n",
              "    <tr>\n",
              "      <th>5640700</th>\n",
              "      <td>41906069</td>\n",
              "      <td>1</td>\n",
              "      <td>66</td>\n",
              "      <td>1</td>\n",
              "      <td>CAROLSALGADOS</td>\n",
              "      <td>2</td>\n",
              "      <td>20210511</td>\n",
              "      <td>0</td>\n",
              "      <td>NaN</td>\n",
              "      <td>NaN</td>\n",
              "      <td>2021-05-11</td>\n",
              "      <td>5620104</td>\n",
              "      <td>1096100</td>\n",
              "      <td>RUA</td>\n",
              "      <td>IMUTA</td>\n",
              "      <td>427</td>\n",
              "      <td>CASA 2</td>\n",
              "      <td>PECHINCHA</td>\n",
              "      <td>22770600.0</td>\n",
              "      <td>RJ</td>\n",
              "      <td>6001</td>\n",
              "      <td>21</td>\n",
              "      <td>6.92053e+07</td>\n",
              "      <td>NaN</td>\n",
              "      <td>NaN</td>\n",
              "      <td>NaN</td>\n",
              "      <td>NaN</td>\n",
              "      <td>WELLINTONWRS@HOTMAIL.COM</td>\n",
              "      <td>NaN</td>\n",
              "      <td>NaN</td>\n",
              "    </tr>\n",
              "    <tr>\n",
              "      <th>5640701</th>\n",
              "      <td>41906079</td>\n",
              "      <td>1</td>\n",
              "      <td>0</td>\n",
              "      <td>1</td>\n",
              "      <td>NEGO BEBIDAS</td>\n",
              "      <td>2</td>\n",
              "      <td>20210511</td>\n",
              "      <td>0</td>\n",
              "      <td>NaN</td>\n",
              "      <td>NaN</td>\n",
              "      <td>2021-05-11</td>\n",
              "      <td>4723700</td>\n",
              "      <td>4712100</td>\n",
              "      <td>AVENIDA</td>\n",
              "      <td>JACARANDA</td>\n",
              "      <td>791</td>\n",
              "      <td>CASA</td>\n",
              "      <td>PARATIBE</td>\n",
              "      <td>58062090.0</td>\n",
              "      <td>PB</td>\n",
              "      <td>2051</td>\n",
              "      <td>83</td>\n",
              "      <td>8.84593e+07</td>\n",
              "      <td>NaN</td>\n",
              "      <td>NaN</td>\n",
              "      <td>NaN</td>\n",
              "      <td>NaN</td>\n",
              "      <td>LSA.BELYYNHA29@GMAIL.COM</td>\n",
              "      <td>NaN</td>\n",
              "      <td>NaN</td>\n",
              "    </tr>\n",
              "    <tr>\n",
              "      <th>5640702</th>\n",
              "      <td>41906089</td>\n",
              "      <td>1</td>\n",
              "      <td>37</td>\n",
              "      <td>1</td>\n",
              "      <td>CHURRAS-BURGUERS</td>\n",
              "      <td>2</td>\n",
              "      <td>20210511</td>\n",
              "      <td>0</td>\n",
              "      <td>NaN</td>\n",
              "      <td>NaN</td>\n",
              "      <td>2021-05-11</td>\n",
              "      <td>1094500</td>\n",
              "      <td>1096100,1013901</td>\n",
              "      <td>RUA</td>\n",
              "      <td>HORACIO NOBREGA</td>\n",
              "      <td>N/N</td>\n",
              "      <td>SETOR AO LADO DA STTRANS PATOS PB</td>\n",
              "      <td>BELO HORIZONTE</td>\n",
              "      <td>58704000.0</td>\n",
              "      <td>PB</td>\n",
              "      <td>2117</td>\n",
              "      <td>83</td>\n",
              "      <td>9.12031e+07</td>\n",
              "      <td>NaN</td>\n",
              "      <td>NaN</td>\n",
              "      <td>NaN</td>\n",
              "      <td>NaN</td>\n",
              "      <td>SELMARODRIGUESICNV@GMAIL.COM</td>\n",
              "      <td>NaN</td>\n",
              "      <td>NaN</td>\n",
              "    </tr>\n",
              "    <tr>\n",
              "      <th>5640703</th>\n",
              "      <td>41906098</td>\n",
              "      <td>1</td>\n",
              "      <td>28</td>\n",
              "      <td>1</td>\n",
              "      <td>ALENCAR CESTA BASICA</td>\n",
              "      <td>2</td>\n",
              "      <td>20210511</td>\n",
              "      <td>0</td>\n",
              "      <td>NaN</td>\n",
              "      <td>NaN</td>\n",
              "      <td>2021-05-11</td>\n",
              "      <td>4712100</td>\n",
              "      <td>NaN</td>\n",
              "      <td>RUA</td>\n",
              "      <td>FRANCISCO COELHO AQUINO</td>\n",
              "      <td>101</td>\n",
              "      <td>NaN</td>\n",
              "      <td>SANTO ANTONIO</td>\n",
              "      <td>56200000.0</td>\n",
              "      <td>PE</td>\n",
              "      <td>2497</td>\n",
              "      <td>87</td>\n",
              "      <td>9.19405e+07</td>\n",
              "      <td>NaN</td>\n",
              "      <td>NaN</td>\n",
              "      <td>NaN</td>\n",
              "      <td>NaN</td>\n",
              "      <td>ELVISALENCAR80@GMAIL.COM</td>\n",
              "      <td>NaN</td>\n",
              "      <td>NaN</td>\n",
              "    </tr>\n",
              "  </tbody>\n",
              "</table>\n",
              "<p>2609482 rows × 30 columns</p>\n",
              "</div>"
            ],
            "text/plain": [
              "         CNPJBase  CNPJOrdem  ...  SitEsp  DataSitEsp\n",
              "1        33600832          1  ...     NaN         NaN\n",
              "2        33600844          1  ...     NaN         NaN\n",
              "3        33600854          1  ...     NaN         NaN\n",
              "4        33600865          1  ...     NaN         NaN\n",
              "5        33600878          1  ...     NaN         NaN\n",
              "...           ...        ...  ...     ...         ...\n",
              "5640699  41906057          1  ...     NaN         NaN\n",
              "5640700  41906069          1  ...     NaN         NaN\n",
              "5640701  41906079          1  ...     NaN         NaN\n",
              "5640702  41906089          1  ...     NaN         NaN\n",
              "5640703  41906098          1  ...     NaN         NaN\n",
              "\n",
              "[2609482 rows x 30 columns]"
            ]
          },
          "metadata": {
            "tags": []
          },
          "execution_count": 22
        }
      ]
    },
    {
      "cell_type": "code",
      "metadata": {
        "colab": {
          "base_uri": "https://localhost:8080/"
        },
        "id": "W0deoTB8D-80",
        "outputId": "43e8217c-8233-4ac2-b922-c23f9a0b5885"
      },
      "source": [
        "#Analise dos 5 maiores CNAE Principais, com CNPJ ativo:\n",
        "analise_ativos['CNAEPrinc'].value_counts().head()"
      ],
      "execution_count": 23,
      "outputs": [
        {
          "output_type": "execute_result",
          "data": {
            "text/plain": [
              "4781400    131483\n",
              "9602501    100180\n",
              "7319002     69449\n",
              "4399103     64481\n",
              "5611203     56288\n",
              "Name: CNAEPrinc, dtype: int64"
            ]
          },
          "metadata": {
            "tags": []
          },
          "execution_count": 23
        }
      ]
    },
    {
      "cell_type": "markdown",
      "metadata": {
        "id": "uE3AWU2-Cgus"
      },
      "source": [
        "Porém a tabela possui apenas a nomeração do CNAE, e para a análise,é importarte saber de fato do que se trata o empreendimento, portanto, através do site do [IBGE](https://cnae.ibge.gov.br/classificacoes/download-concla/8265-download) é possivel extrair a informação desejada, criando o DataFrame abaixo.\n"
      ]
    },
    {
      "cell_type": "code",
      "metadata": {
        "id": "ijjScKvvB3hx"
      },
      "source": [
        "url = 'http://200.152.38.155/CNPJ/F.K03200$Z.D10510.CNAECSV.zip'\n",
        "col_Names = ['Codigo', 'Atividade']\n",
        "cnae = pd.read_csv(url, sep = ';', encoding = 'latin1', names = col_Names)"
      ],
      "execution_count": 24,
      "outputs": []
    },
    {
      "cell_type": "code",
      "metadata": {
        "colab": {
          "base_uri": "https://localhost:8080/",
          "height": 203
        },
        "id": "_-cEsp36GMJc",
        "outputId": "044590df-c91d-41ba-a54c-5330b290d04e"
      },
      "source": [
        "cnae.head()"
      ],
      "execution_count": 25,
      "outputs": [
        {
          "output_type": "execute_result",
          "data": {
            "text/html": [
              "<div>\n",
              "<style scoped>\n",
              "    .dataframe tbody tr th:only-of-type {\n",
              "        vertical-align: middle;\n",
              "    }\n",
              "\n",
              "    .dataframe tbody tr th {\n",
              "        vertical-align: top;\n",
              "    }\n",
              "\n",
              "    .dataframe thead th {\n",
              "        text-align: right;\n",
              "    }\n",
              "</style>\n",
              "<table border=\"1\" class=\"dataframe\">\n",
              "  <thead>\n",
              "    <tr style=\"text-align: right;\">\n",
              "      <th></th>\n",
              "      <th>Codigo</th>\n",
              "      <th>Atividade</th>\n",
              "    </tr>\n",
              "  </thead>\n",
              "  <tbody>\n",
              "    <tr>\n",
              "      <th>0</th>\n",
              "      <td>111301</td>\n",
              "      <td>Cultivo de arroz</td>\n",
              "    </tr>\n",
              "    <tr>\n",
              "      <th>1</th>\n",
              "      <td>111302</td>\n",
              "      <td>Cultivo de milho</td>\n",
              "    </tr>\n",
              "    <tr>\n",
              "      <th>2</th>\n",
              "      <td>111303</td>\n",
              "      <td>Cultivo de trigo</td>\n",
              "    </tr>\n",
              "    <tr>\n",
              "      <th>3</th>\n",
              "      <td>111399</td>\n",
              "      <td>Cultivo de outros cereais não especificados an...</td>\n",
              "    </tr>\n",
              "    <tr>\n",
              "      <th>4</th>\n",
              "      <td>112101</td>\n",
              "      <td>Cultivo de algodão herbáceo</td>\n",
              "    </tr>\n",
              "  </tbody>\n",
              "</table>\n",
              "</div>"
            ],
            "text/plain": [
              "   Codigo                                          Atividade\n",
              "0  111301                                   Cultivo de arroz\n",
              "1  111302                                   Cultivo de milho\n",
              "2  111303                                   Cultivo de trigo\n",
              "3  111399  Cultivo de outros cereais não especificados an...\n",
              "4  112101                        Cultivo de algodão herbáceo"
            ]
          },
          "metadata": {
            "tags": []
          },
          "execution_count": 25
        }
      ]
    },
    {
      "cell_type": "markdown",
      "metadata": {
        "id": "D0dJKFvbISjt"
      },
      "source": [
        "Então é possivel realizar uma consulta a qual atividade exercida pelos 5 mais frequentes, por exemplo:\n"
      ]
    },
    {
      "cell_type": "code",
      "metadata": {
        "id": "zu_oMGH0PeK_"
      },
      "source": [
        "pd.set_option(\"display.max_colwidth\", None)"
      ],
      "execution_count": 26,
      "outputs": []
    },
    {
      "cell_type": "code",
      "metadata": {
        "colab": {
          "base_uri": "https://localhost:8080/",
          "height": 203
        },
        "id": "Vah-BgtZIwuD",
        "outputId": "19b37b33-16ae-4b23-e0e2-0b16fc9bd8a2"
      },
      "source": [
        "lista_cnae = [4781400, 9602501, 7319002, 4399103, 5611203]\n",
        "cnae.query('Codigo in @lista_cnae')"
      ],
      "execution_count": 27,
      "outputs": [
        {
          "output_type": "execute_result",
          "data": {
            "text/html": [
              "<div>\n",
              "<style scoped>\n",
              "    .dataframe tbody tr th:only-of-type {\n",
              "        vertical-align: middle;\n",
              "    }\n",
              "\n",
              "    .dataframe tbody tr th {\n",
              "        vertical-align: top;\n",
              "    }\n",
              "\n",
              "    .dataframe thead th {\n",
              "        text-align: right;\n",
              "    }\n",
              "</style>\n",
              "<table border=\"1\" class=\"dataframe\">\n",
              "  <thead>\n",
              "    <tr style=\"text-align: right;\">\n",
              "      <th></th>\n",
              "      <th>Codigo</th>\n",
              "      <th>Atividade</th>\n",
              "    </tr>\n",
              "  </thead>\n",
              "  <tbody>\n",
              "    <tr>\n",
              "      <th>662</th>\n",
              "      <td>4399103</td>\n",
              "      <td>Obras de alvenaria</td>\n",
              "    </tr>\n",
              "    <tr>\n",
              "      <th>879</th>\n",
              "      <td>4781400</td>\n",
              "      <td>Comércio varejista de artigos do vestuário e acessórios</td>\n",
              "    </tr>\n",
              "    <tr>\n",
              "      <th>977</th>\n",
              "      <td>5611203</td>\n",
              "      <td>Lanchonetes, casas de chá, de sucos e similares</td>\n",
              "    </tr>\n",
              "    <tr>\n",
              "      <th>1126</th>\n",
              "      <td>7319002</td>\n",
              "      <td>Promoção de vendas</td>\n",
              "    </tr>\n",
              "    <tr>\n",
              "      <th>1339</th>\n",
              "      <td>9602501</td>\n",
              "      <td>Cabeleireiros, manicure e pedicure</td>\n",
              "    </tr>\n",
              "  </tbody>\n",
              "</table>\n",
              "</div>"
            ],
            "text/plain": [
              "       Codigo                                                Atividade\n",
              "662   4399103                                       Obras de alvenaria\n",
              "879   4781400  Comércio varejista de artigos do vestuário e acessórios\n",
              "977   5611203          Lanchonetes, casas de chá, de sucos e similares\n",
              "1126  7319002                                       Promoção de vendas\n",
              "1339  9602501                       Cabeleireiros, manicure e pedicure"
            ]
          },
          "metadata": {
            "tags": []
          },
          "execution_count": 27
        }
      ]
    },
    {
      "cell_type": "markdown",
      "metadata": {
        "id": "jAO-YQsmirJ2"
      },
      "source": [
        "#Análise Cidade"
      ]
    },
    {
      "cell_type": "markdown",
      "metadata": {
        "id": "PqFnUjnYMcc-"
      },
      "source": [
        "Da mesma forma podemos incluir um outro DataFrame pra nos auxiliar na análise, com a conversão do código para o nome do município. Tambem podemos incluir algumas outras informações, também dos estados, através do arquivo extraido do site da [Rede SUAS](http://blog.mds.gov.br/redesuas/lista-de-municipios-brasileiros/)"
      ]
    },
    {
      "cell_type": "code",
      "metadata": {
        "colab": {
          "base_uri": "https://localhost:8080/",
          "height": 203
        },
        "id": "bBUBzVpfeXnN",
        "outputId": "d7b99712-85ad-4cd6-c7de-082809e9a63a"
      },
      "source": [
        "#Carregamento da tabela para identificação da Cidade\n",
        "url = 'http://200.152.38.155/CNPJ/F.K03200$Z.D10510.MUNICCSV.zip'\n",
        "col_Names = ['Codigo','Municipio']\n",
        "cod_mun = pd.read_csv(url, sep = ';', names = col_Names)\n",
        "cod_mun.head()"
      ],
      "execution_count": 29,
      "outputs": [
        {
          "output_type": "execute_result",
          "data": {
            "text/html": [
              "<div>\n",
              "<style scoped>\n",
              "    .dataframe tbody tr th:only-of-type {\n",
              "        vertical-align: middle;\n",
              "    }\n",
              "\n",
              "    .dataframe tbody tr th {\n",
              "        vertical-align: top;\n",
              "    }\n",
              "\n",
              "    .dataframe thead th {\n",
              "        text-align: right;\n",
              "    }\n",
              "</style>\n",
              "<table border=\"1\" class=\"dataframe\">\n",
              "  <thead>\n",
              "    <tr style=\"text-align: right;\">\n",
              "      <th></th>\n",
              "      <th>Codigo</th>\n",
              "      <th>Municipio</th>\n",
              "    </tr>\n",
              "  </thead>\n",
              "  <tbody>\n",
              "    <tr>\n",
              "      <th>0</th>\n",
              "      <td>1</td>\n",
              "      <td>GUAJARA-MIRIM</td>\n",
              "    </tr>\n",
              "    <tr>\n",
              "      <th>1</th>\n",
              "      <td>2</td>\n",
              "      <td>ALTO ALEGRE DOS PARECIS</td>\n",
              "    </tr>\n",
              "    <tr>\n",
              "      <th>2</th>\n",
              "      <td>3</td>\n",
              "      <td>PORTO VELHO</td>\n",
              "    </tr>\n",
              "    <tr>\n",
              "      <th>3</th>\n",
              "      <td>4</td>\n",
              "      <td>BURITIS</td>\n",
              "    </tr>\n",
              "    <tr>\n",
              "      <th>4</th>\n",
              "      <td>5</td>\n",
              "      <td>JI-PARANA</td>\n",
              "    </tr>\n",
              "  </tbody>\n",
              "</table>\n",
              "</div>"
            ],
            "text/plain": [
              "   Codigo                Municipio\n",
              "0       1            GUAJARA-MIRIM\n",
              "1       2  ALTO ALEGRE DOS PARECIS\n",
              "2       3              PORTO VELHO\n",
              "3       4                  BURITIS\n",
              "4       5                JI-PARANA"
            ]
          },
          "metadata": {
            "tags": []
          },
          "execution_count": 29
        }
      ]
    },
    {
      "cell_type": "code",
      "metadata": {
        "colab": {
          "base_uri": "https://localhost:8080/",
          "height": 80
        },
        "id": "fyMMF855imTs",
        "outputId": "b8235783-927c-45c2-d141-c04dc70a5d74"
      },
      "source": [
        "#Agora é possivel saber o nome das cidades utilizando o código presente no DF de CNPJs:\n",
        "cod_mun.query('Codigo == 7171')"
      ],
      "execution_count": 30,
      "outputs": [
        {
          "output_type": "execute_result",
          "data": {
            "text/html": [
              "<div>\n",
              "<style scoped>\n",
              "    .dataframe tbody tr th:only-of-type {\n",
              "        vertical-align: middle;\n",
              "    }\n",
              "\n",
              "    .dataframe tbody tr th {\n",
              "        vertical-align: top;\n",
              "    }\n",
              "\n",
              "    .dataframe thead th {\n",
              "        text-align: right;\n",
              "    }\n",
              "</style>\n",
              "<table border=\"1\" class=\"dataframe\">\n",
              "  <thead>\n",
              "    <tr style=\"text-align: right;\">\n",
              "      <th></th>\n",
              "      <th>Codigo</th>\n",
              "      <th>Municipio</th>\n",
              "    </tr>\n",
              "  </thead>\n",
              "  <tbody>\n",
              "    <tr>\n",
              "      <th>4172</th>\n",
              "      <td>7171</td>\n",
              "      <td>TAPIRAI</td>\n",
              "    </tr>\n",
              "  </tbody>\n",
              "</table>\n",
              "</div>"
            ],
            "text/plain": [
              "      Codigo Municipio\n",
              "4172    7171   TAPIRAI"
            ]
          },
          "metadata": {
            "tags": []
          },
          "execution_count": 30
        }
      ]
    },
    {
      "cell_type": "code",
      "metadata": {
        "colab": {
          "base_uri": "https://localhost:8080/",
          "height": 304
        },
        "id": "7ZdxPnhZLL0F",
        "outputId": "a71e8944-4262-4c01-906f-59effca977e3"
      },
      "source": [
        "#Importação da tabela com mais informações sobre as cidades:\n",
        "url = 'http://blog.mds.gov.br/redesuas/wp-content/uploads/2018/06/Lista_Munic%C3%ADpios_com_IBGE_Brasil_Versao_CSV.csv'\n",
        "cidades = pd.read_csv(url, sep = ';', encoding = 'latin1')\n",
        "cidades.head()"
      ],
      "execution_count": 31,
      "outputs": [
        {
          "output_type": "execute_result",
          "data": {
            "text/html": [
              "<div>\n",
              "<style scoped>\n",
              "    .dataframe tbody tr th:only-of-type {\n",
              "        vertical-align: middle;\n",
              "    }\n",
              "\n",
              "    .dataframe tbody tr th {\n",
              "        vertical-align: top;\n",
              "    }\n",
              "\n",
              "    .dataframe thead th {\n",
              "        text-align: right;\n",
              "    }\n",
              "</style>\n",
              "<table border=\"1\" class=\"dataframe\">\n",
              "  <thead>\n",
              "    <tr style=\"text-align: right;\">\n",
              "      <th></th>\n",
              "      <th>ConcatUF+Mun</th>\n",
              "      <th>IBGE</th>\n",
              "      <th>IBGE7</th>\n",
              "      <th>UF</th>\n",
              "      <th>Município</th>\n",
              "      <th>Região</th>\n",
              "      <th>População 2010</th>\n",
              "      <th>Porte</th>\n",
              "      <th>Capital</th>\n",
              "      <th>Unnamed: 9</th>\n",
              "    </tr>\n",
              "  </thead>\n",
              "  <tbody>\n",
              "    <tr>\n",
              "      <th>0</th>\n",
              "      <td>ROAlta Floresta D'oeste</td>\n",
              "      <td>110001</td>\n",
              "      <td>1100015</td>\n",
              "      <td>RO</td>\n",
              "      <td>Alta Floresta D´oeste</td>\n",
              "      <td>Região Norte</td>\n",
              "      <td>24392.0</td>\n",
              "      <td>Pequeno II</td>\n",
              "      <td>NaN</td>\n",
              "      <td>PROCV(A2;'[Lista de Municípios com IBGE - Brasil.xlsx]Lista de Municípios IBGE'!$A$2:$G$5566;4;0)</td>\n",
              "    </tr>\n",
              "    <tr>\n",
              "      <th>1</th>\n",
              "      <td>ROAriquemes</td>\n",
              "      <td>110002</td>\n",
              "      <td>1100023</td>\n",
              "      <td>RO</td>\n",
              "      <td>Ariquemes</td>\n",
              "      <td>Região Norte</td>\n",
              "      <td>90353.0</td>\n",
              "      <td>Médio</td>\n",
              "      <td>NaN</td>\n",
              "      <td>PROCV(A2;'Lista de Municípios IBGE'!$A$2:$G$5566;4;0)</td>\n",
              "    </tr>\n",
              "    <tr>\n",
              "      <th>2</th>\n",
              "      <td>ROCabixi</td>\n",
              "      <td>110003</td>\n",
              "      <td>1100031</td>\n",
              "      <td>RO</td>\n",
              "      <td>Cabixi</td>\n",
              "      <td>Região Norte</td>\n",
              "      <td>6313.0</td>\n",
              "      <td>Pequeno I</td>\n",
              "      <td>NaN</td>\n",
              "      <td>NaN</td>\n",
              "    </tr>\n",
              "    <tr>\n",
              "      <th>3</th>\n",
              "      <td>ROCacoal</td>\n",
              "      <td>110004</td>\n",
              "      <td>1100049</td>\n",
              "      <td>RO</td>\n",
              "      <td>Cacoal</td>\n",
              "      <td>Região Norte</td>\n",
              "      <td>78574.0</td>\n",
              "      <td>Médio</td>\n",
              "      <td>NaN</td>\n",
              "      <td>NaN</td>\n",
              "    </tr>\n",
              "    <tr>\n",
              "      <th>4</th>\n",
              "      <td>ROCerejeiras</td>\n",
              "      <td>110005</td>\n",
              "      <td>1100056</td>\n",
              "      <td>RO</td>\n",
              "      <td>Cerejeiras</td>\n",
              "      <td>Região Norte</td>\n",
              "      <td>17029.0</td>\n",
              "      <td>Pequeno I</td>\n",
              "      <td>NaN</td>\n",
              "      <td>NaN</td>\n",
              "    </tr>\n",
              "  </tbody>\n",
              "</table>\n",
              "</div>"
            ],
            "text/plain": [
              "              ConcatUF+Mun  ...                                                                                         Unnamed: 9\n",
              "0  ROAlta Floresta D'oeste  ...  PROCV(A2;'[Lista de Municípios com IBGE - Brasil.xlsx]Lista de Municípios IBGE'!$A$2:$G$5566;4;0)\n",
              "1              ROAriquemes  ...                                              PROCV(A2;'Lista de Municípios IBGE'!$A$2:$G$5566;4;0)\n",
              "2                 ROCabixi  ...                                                                                                NaN\n",
              "3                 ROCacoal  ...                                                                                                NaN\n",
              "4             ROCerejeiras  ...                                                                                                NaN\n",
              "\n",
              "[5 rows x 10 columns]"
            ]
          },
          "metadata": {
            "tags": []
          },
          "execution_count": 31
        }
      ]
    },
    {
      "cell_type": "markdown",
      "metadata": {
        "id": "5NZ6AwQKPzqu"
      },
      "source": [
        "As informações concatenadas e a ultima coluna não nos importam, portando iremos removê-las:"
      ]
    },
    {
      "cell_type": "code",
      "metadata": {
        "colab": {
          "base_uri": "https://localhost:8080/",
          "height": 203
        },
        "id": "k_nmuF2APzL2",
        "outputId": "3d54253f-76a1-4457-cbab-17019a0a52f0"
      },
      "source": [
        "cidades.drop(['ConcatUF+Mun','Unnamed: 9'],\n",
        "  axis='columns', inplace=True)\n",
        "cidades.head()"
      ],
      "execution_count": 32,
      "outputs": [
        {
          "output_type": "execute_result",
          "data": {
            "text/html": [
              "<div>\n",
              "<style scoped>\n",
              "    .dataframe tbody tr th:only-of-type {\n",
              "        vertical-align: middle;\n",
              "    }\n",
              "\n",
              "    .dataframe tbody tr th {\n",
              "        vertical-align: top;\n",
              "    }\n",
              "\n",
              "    .dataframe thead th {\n",
              "        text-align: right;\n",
              "    }\n",
              "</style>\n",
              "<table border=\"1\" class=\"dataframe\">\n",
              "  <thead>\n",
              "    <tr style=\"text-align: right;\">\n",
              "      <th></th>\n",
              "      <th>IBGE</th>\n",
              "      <th>IBGE7</th>\n",
              "      <th>UF</th>\n",
              "      <th>Município</th>\n",
              "      <th>Região</th>\n",
              "      <th>População 2010</th>\n",
              "      <th>Porte</th>\n",
              "      <th>Capital</th>\n",
              "    </tr>\n",
              "  </thead>\n",
              "  <tbody>\n",
              "    <tr>\n",
              "      <th>0</th>\n",
              "      <td>110001</td>\n",
              "      <td>1100015</td>\n",
              "      <td>RO</td>\n",
              "      <td>Alta Floresta D´oeste</td>\n",
              "      <td>Região Norte</td>\n",
              "      <td>24392.0</td>\n",
              "      <td>Pequeno II</td>\n",
              "      <td>NaN</td>\n",
              "    </tr>\n",
              "    <tr>\n",
              "      <th>1</th>\n",
              "      <td>110002</td>\n",
              "      <td>1100023</td>\n",
              "      <td>RO</td>\n",
              "      <td>Ariquemes</td>\n",
              "      <td>Região Norte</td>\n",
              "      <td>90353.0</td>\n",
              "      <td>Médio</td>\n",
              "      <td>NaN</td>\n",
              "    </tr>\n",
              "    <tr>\n",
              "      <th>2</th>\n",
              "      <td>110003</td>\n",
              "      <td>1100031</td>\n",
              "      <td>RO</td>\n",
              "      <td>Cabixi</td>\n",
              "      <td>Região Norte</td>\n",
              "      <td>6313.0</td>\n",
              "      <td>Pequeno I</td>\n",
              "      <td>NaN</td>\n",
              "    </tr>\n",
              "    <tr>\n",
              "      <th>3</th>\n",
              "      <td>110004</td>\n",
              "      <td>1100049</td>\n",
              "      <td>RO</td>\n",
              "      <td>Cacoal</td>\n",
              "      <td>Região Norte</td>\n",
              "      <td>78574.0</td>\n",
              "      <td>Médio</td>\n",
              "      <td>NaN</td>\n",
              "    </tr>\n",
              "    <tr>\n",
              "      <th>4</th>\n",
              "      <td>110005</td>\n",
              "      <td>1100056</td>\n",
              "      <td>RO</td>\n",
              "      <td>Cerejeiras</td>\n",
              "      <td>Região Norte</td>\n",
              "      <td>17029.0</td>\n",
              "      <td>Pequeno I</td>\n",
              "      <td>NaN</td>\n",
              "    </tr>\n",
              "  </tbody>\n",
              "</table>\n",
              "</div>"
            ],
            "text/plain": [
              "     IBGE    IBGE7  UF  ... População 2010       Porte  Capital\n",
              "0  110001  1100015  RO  ...        24392.0  Pequeno II      NaN\n",
              "1  110002  1100023  RO  ...        90353.0       Médio      NaN\n",
              "2  110003  1100031  RO  ...         6313.0   Pequeno I      NaN\n",
              "3  110004  1100049  RO  ...        78574.0       Médio      NaN\n",
              "4  110005  1100056  RO  ...        17029.0   Pequeno I      NaN\n",
              "\n",
              "[5 rows x 8 columns]"
            ]
          },
          "metadata": {
            "tags": []
          },
          "execution_count": 32
        }
      ]
    },
    {
      "cell_type": "markdown",
      "metadata": {
        "id": "0CPTBlzdk5Gu"
      },
      "source": [
        "Agora podemos aprofundar um pouco mais a filtragem dos CNAE, por exemplo, quais as cidades que mais exercercem a atividade mais exercida (4781400\t- Comércio varejista de artigos do vestuário e acessórios)."
      ]
    },
    {
      "cell_type": "code",
      "metadata": {
        "colab": {
          "base_uri": "https://localhost:8080/"
        },
        "id": "gGfEhkHFlUTF",
        "outputId": "633384c8-1433-4be3-e9a8-35ab4b1c1e88"
      },
      "source": [
        "analise_ativos.query('CNAEPrinc == 4781400')['Municipio'].value_counts()"
      ],
      "execution_count": 35,
      "outputs": [
        {
          "output_type": "execute_result",
          "data": {
            "text/plain": [
              "7107    9328\n",
              "6001    3805\n",
              "9701    2137\n",
              "4123    2039\n",
              "1389    1867\n",
              "        ... \n",
              "2197       1\n",
              "6167       1\n",
              "353        1\n",
              "2241       1\n",
              "51         1\n",
              "Name: Municipio, Length: 4985, dtype: int64"
            ]
          },
          "metadata": {
            "tags": []
          },
          "execution_count": 35
        }
      ]
    },
    {
      "cell_type": "code",
      "metadata": {
        "colab": {
          "base_uri": "https://localhost:8080/",
          "height": 203
        },
        "id": "EJIrkPUZawm5",
        "outputId": "31f575a7-4569-4c47-d88b-6b30f3da7f5c"
      },
      "source": [
        "#Criação da lista com as 5 Cidades\n",
        "lista_mun = [7107, 6001, 9701, 4123, 1389]\n",
        "#Busca pelas cidades:\n",
        "cod_mun.query('Codigo in @lista_mun')"
      ],
      "execution_count": 37,
      "outputs": [
        {
          "output_type": "execute_result",
          "data": {
            "text/html": [
              "<div>\n",
              "<style scoped>\n",
              "    .dataframe tbody tr th:only-of-type {\n",
              "        vertical-align: middle;\n",
              "    }\n",
              "\n",
              "    .dataframe tbody tr th {\n",
              "        vertical-align: top;\n",
              "    }\n",
              "\n",
              "    .dataframe thead th {\n",
              "        text-align: right;\n",
              "    }\n",
              "</style>\n",
              "<table border=\"1\" class=\"dataframe\">\n",
              "  <thead>\n",
              "    <tr style=\"text-align: right;\">\n",
              "      <th></th>\n",
              "      <th>Codigo</th>\n",
              "      <th>Municipio</th>\n",
              "    </tr>\n",
              "  </thead>\n",
              "  <tbody>\n",
              "    <tr>\n",
              "      <th>1289</th>\n",
              "      <td>1389</td>\n",
              "      <td>FORTALEZA</td>\n",
              "    </tr>\n",
              "    <tr>\n",
              "      <th>2655</th>\n",
              "      <td>4123</td>\n",
              "      <td>BELO HORIZONTE</td>\n",
              "    </tr>\n",
              "    <tr>\n",
              "      <th>3594</th>\n",
              "      <td>6001</td>\n",
              "      <td>RIO DE JANEIRO</td>\n",
              "    </tr>\n",
              "    <tr>\n",
              "      <th>4140</th>\n",
              "      <td>7107</td>\n",
              "      <td>SAO PAULO</td>\n",
              "    </tr>\n",
              "    <tr>\n",
              "      <th>5424</th>\n",
              "      <td>9701</td>\n",
              "      <td>BRASILIA</td>\n",
              "    </tr>\n",
              "  </tbody>\n",
              "</table>\n",
              "</div>"
            ],
            "text/plain": [
              "      Codigo       Municipio\n",
              "1289    1389       FORTALEZA\n",
              "2655    4123  BELO HORIZONTE\n",
              "3594    6001  RIO DE JANEIRO\n",
              "4140    7107       SAO PAULO\n",
              "5424    9701        BRASILIA"
            ]
          },
          "metadata": {
            "tags": []
          },
          "execution_count": 37
        }
      ]
    },
    {
      "cell_type": "code",
      "metadata": {
        "colab": {
          "base_uri": "https://localhost:8080/",
          "height": 203
        },
        "id": "m_jcSUTyJJUz",
        "outputId": "2c964459-2f90-4a4e-f2f3-9c7d414b60fd"
      },
      "source": [
        "#Mais informações sobre as cidades que mais exercem:\n",
        "lista_cidade = ['São Paulo','Rio de Janeiro','Brasília','Belo Horizonte','Fortaleza']\n",
        "#Busca por mais informações:\n",
        "cidades.query('Município in @lista_cidade')"
      ],
      "execution_count": 38,
      "outputs": [
        {
          "output_type": "execute_result",
          "data": {
            "text/html": [
              "<div>\n",
              "<style scoped>\n",
              "    .dataframe tbody tr th:only-of-type {\n",
              "        vertical-align: middle;\n",
              "    }\n",
              "\n",
              "    .dataframe tbody tr th {\n",
              "        vertical-align: top;\n",
              "    }\n",
              "\n",
              "    .dataframe thead th {\n",
              "        text-align: right;\n",
              "    }\n",
              "</style>\n",
              "<table border=\"1\" class=\"dataframe\">\n",
              "  <thead>\n",
              "    <tr style=\"text-align: right;\">\n",
              "      <th></th>\n",
              "      <th>IBGE</th>\n",
              "      <th>IBGE7</th>\n",
              "      <th>UF</th>\n",
              "      <th>Município</th>\n",
              "      <th>Região</th>\n",
              "      <th>População 2010</th>\n",
              "      <th>Porte</th>\n",
              "      <th>Capital</th>\n",
              "    </tr>\n",
              "  </thead>\n",
              "  <tbody>\n",
              "    <tr>\n",
              "      <th>949</th>\n",
              "      <td>230440</td>\n",
              "      <td>2304400</td>\n",
              "      <td>CE</td>\n",
              "      <td>Fortaleza</td>\n",
              "      <td>Região Nordeste</td>\n",
              "      <td>2452185.0</td>\n",
              "      <td>Metrópole</td>\n",
              "      <td>Capital</td>\n",
              "    </tr>\n",
              "    <tr>\n",
              "      <th>2309</th>\n",
              "      <td>310620</td>\n",
              "      <td>3106200</td>\n",
              "      <td>MG</td>\n",
              "      <td>Belo Horizonte</td>\n",
              "      <td>Região Sudeste</td>\n",
              "      <td>2375151.0</td>\n",
              "      <td>Metrópole</td>\n",
              "      <td>Capital</td>\n",
              "    </tr>\n",
              "    <tr>\n",
              "      <th>3242</th>\n",
              "      <td>330455</td>\n",
              "      <td>3304557</td>\n",
              "      <td>RJ</td>\n",
              "      <td>Rio de Janeiro</td>\n",
              "      <td>Região Sudeste</td>\n",
              "      <td>6320446.0</td>\n",
              "      <td>Metrópole</td>\n",
              "      <td>Capital</td>\n",
              "    </tr>\n",
              "    <tr>\n",
              "      <th>3829</th>\n",
              "      <td>355030</td>\n",
              "      <td>3550308</td>\n",
              "      <td>SP</td>\n",
              "      <td>São Paulo</td>\n",
              "      <td>Região Sudeste</td>\n",
              "      <td>11253503.0</td>\n",
              "      <td>Metrópole</td>\n",
              "      <td>Capital</td>\n",
              "    </tr>\n",
              "    <tr>\n",
              "      <th>5569</th>\n",
              "      <td>530010</td>\n",
              "      <td>5300108</td>\n",
              "      <td>DF</td>\n",
              "      <td>Brasília</td>\n",
              "      <td>Região Centro-Oeste</td>\n",
              "      <td>2570160.0</td>\n",
              "      <td>Metrópole</td>\n",
              "      <td>Capital</td>\n",
              "    </tr>\n",
              "  </tbody>\n",
              "</table>\n",
              "</div>"
            ],
            "text/plain": [
              "        IBGE    IBGE7  UF  ... População 2010      Porte  Capital\n",
              "949   230440  2304400  CE  ...      2452185.0  Metrópole  Capital\n",
              "2309  310620  3106200  MG  ...      2375151.0  Metrópole  Capital\n",
              "3242  330455  3304557  RJ  ...      6320446.0  Metrópole  Capital\n",
              "3829  355030  3550308  SP  ...     11253503.0  Metrópole  Capital\n",
              "5569  530010  5300108  DF  ...      2570160.0  Metrópole  Capital\n",
              "\n",
              "[5 rows x 8 columns]"
            ]
          },
          "metadata": {
            "tags": []
          },
          "execution_count": 38
        }
      ]
    },
    {
      "cell_type": "markdown",
      "metadata": {
        "id": "g1qCoKJJJvWM"
      },
      "source": [
        "Percebe-se que são todas capitais de seus estados, onde ocorre maior densidade demografica, sendo todas metrópoles quanto ao tamanho. Interessante notar que 3 se encontram na Região Sudeste, portanto uma empresa que presta consultoria nessa área pode encontrar muitas oportunidades nessa área."
      ]
    }
  ]
}